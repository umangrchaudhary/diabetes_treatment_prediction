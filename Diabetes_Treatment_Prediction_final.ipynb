{
 "cells": [
  {
   "cell_type": "markdown",
   "id": "a8e38dc6-ccd1-4fa7-9eb4-20dbda60baef",
   "metadata": {
    "id": "a8e38dc6-ccd1-4fa7-9eb4-20dbda60baef"
   },
   "source": [
    "*installing the necessary libraries*"
   ]
  },
  {
   "cell_type": "code",
   "execution_count": 1,
   "id": "dc645953-e1d3-4f5a-98e3-42f918bb4a5c",
   "metadata": {
    "id": "dc645953-e1d3-4f5a-98e3-42f918bb4a5c"
   },
   "outputs": [],
   "source": [
    "!pip install pandas matplotlib scikit-learn seaborn xgboost -q"
   ]
  },
  {
   "cell_type": "markdown",
   "id": "17b8c48d-23dc-42ed-bf60-23ab3b7c9ac8",
   "metadata": {
    "id": "17b8c48d-23dc-42ed-bf60-23ab3b7c9ac8"
   },
   "source": [
    "*Import necessary libraries*"
   ]
  },
  {
   "cell_type": "code",
   "execution_count": 2,
   "id": "85d9648b-ce66-4074-b399-bd564817c8c9",
   "metadata": {
    "id": "85d9648b-ce66-4074-b399-bd564817c8c9"
   },
   "outputs": [],
   "source": [
    "import pandas as pd\n",
    "import matplotlib.pyplot as plt\n",
    "from sklearn.model_selection import train_test_split\n",
    "from sklearn.preprocessing import OneHotEncoder\n",
    "from sklearn.ensemble import RandomForestClassifier\n",
    "from sklearn.metrics import accuracy_score"
   ]
  },
  {
   "cell_type": "markdown",
   "id": "2930483d-79f5-4b04-95d6-4052e70b6a46",
   "metadata": {
    "id": "2930483d-79f5-4b04-95d6-4052e70b6a46"
   },
   "source": [
    "*importing the dataset*"
   ]
  },
  {
   "cell_type": "code",
   "execution_count": 3,
   "id": "b770ca85-25b3-42d9-94d0-0c83b481c634",
   "metadata": {
    "id": "b770ca85-25b3-42d9-94d0-0c83b481c634"
   },
   "outputs": [],
   "source": [
    "# Load data\n",
    "train_data = pd.read_csv('train.csv')\n",
    "test_data = pd.read_csv('test.csv')"
   ]
  },
  {
   "cell_type": "code",
   "execution_count": 4,
   "id": "67827995-aafa-4ed5-b8dc-c02331464cef",
   "metadata": {
    "colab": {
     "base_uri": "https://localhost:8080/",
     "height": 313
    },
    "id": "67827995-aafa-4ed5-b8dc-c02331464cef",
    "outputId": "66405a28-31cf-4fe6-e9d7-852b99933424"
   },
   "outputs": [
    {
     "data": {
      "text/html": [
       "<div>\n",
       "<style scoped>\n",
       "    .dataframe tbody tr th:only-of-type {\n",
       "        vertical-align: middle;\n",
       "    }\n",
       "\n",
       "    .dataframe tbody tr th {\n",
       "        vertical-align: top;\n",
       "    }\n",
       "\n",
       "    .dataframe thead th {\n",
       "        text-align: right;\n",
       "    }\n",
       "</style>\n",
       "<table border=\"1\" class=\"dataframe\">\n",
       "  <thead>\n",
       "    <tr style=\"text-align: right;\">\n",
       "      <th></th>\n",
       "      <th>patient_id</th>\n",
       "      <th>gender</th>\n",
       "      <th>age</th>\n",
       "      <th>time_in_hospital</th>\n",
       "      <th>num_lab_procedures</th>\n",
       "      <th>num_procedures</th>\n",
       "      <th>num_medications</th>\n",
       "      <th>number_diagnoses</th>\n",
       "      <th>glucose_test</th>\n",
       "      <th>insulin_change</th>\n",
       "      <th>diabetes_drug_1</th>\n",
       "      <th>diabetes_drug_2</th>\n",
       "      <th>medication_change</th>\n",
       "      <th>followup</th>\n",
       "      <th>opted</th>\n",
       "    </tr>\n",
       "  </thead>\n",
       "  <tbody>\n",
       "    <tr>\n",
       "      <th>0</th>\n",
       "      <td>75148425</td>\n",
       "      <td>Female</td>\n",
       "      <td>[60-70)</td>\n",
       "      <td>8.0</td>\n",
       "      <td>53.0</td>\n",
       "      <td>3.0</td>\n",
       "      <td>31.0</td>\n",
       "      <td>9.0</td>\n",
       "      <td>NaN</td>\n",
       "      <td>Down</td>\n",
       "      <td>No</td>\n",
       "      <td>No</td>\n",
       "      <td>Yes</td>\n",
       "      <td>No</td>\n",
       "      <td>Yes</td>\n",
       "    </tr>\n",
       "    <tr>\n",
       "      <th>1</th>\n",
       "      <td>160958849</td>\n",
       "      <td>Male</td>\n",
       "      <td>[20-30)</td>\n",
       "      <td>6.0</td>\n",
       "      <td>3.0</td>\n",
       "      <td>0.0</td>\n",
       "      <td>8.0</td>\n",
       "      <td>7.0</td>\n",
       "      <td>NaN</td>\n",
       "      <td>No</td>\n",
       "      <td>No</td>\n",
       "      <td>No</td>\n",
       "      <td>No</td>\n",
       "      <td>No</td>\n",
       "      <td>No</td>\n",
       "    </tr>\n",
       "    <tr>\n",
       "      <th>2</th>\n",
       "      <td>89060535</td>\n",
       "      <td>Male</td>\n",
       "      <td>[70-80)</td>\n",
       "      <td>3.0</td>\n",
       "      <td>28.0</td>\n",
       "      <td>1.0</td>\n",
       "      <td>14.0</td>\n",
       "      <td>9.0</td>\n",
       "      <td>NaN</td>\n",
       "      <td>No</td>\n",
       "      <td>No</td>\n",
       "      <td>No</td>\n",
       "      <td>Yes</td>\n",
       "      <td>Yes</td>\n",
       "      <td>Yes</td>\n",
       "    </tr>\n",
       "    <tr>\n",
       "      <th>3</th>\n",
       "      <td>5995206</td>\n",
       "      <td>Male</td>\n",
       "      <td>[60-70)</td>\n",
       "      <td>2.0</td>\n",
       "      <td>39.0</td>\n",
       "      <td>1.0</td>\n",
       "      <td>10.0</td>\n",
       "      <td>9.0</td>\n",
       "      <td>NaN</td>\n",
       "      <td>Down</td>\n",
       "      <td>No</td>\n",
       "      <td>No</td>\n",
       "      <td>Yes</td>\n",
       "      <td>Yes</td>\n",
       "      <td>Yes</td>\n",
       "    </tr>\n",
       "    <tr>\n",
       "      <th>4</th>\n",
       "      <td>71726355</td>\n",
       "      <td>Female</td>\n",
       "      <td>[80-90)</td>\n",
       "      <td>1.0</td>\n",
       "      <td>2.0</td>\n",
       "      <td>1.0</td>\n",
       "      <td>10.0</td>\n",
       "      <td>6.0</td>\n",
       "      <td>NaN</td>\n",
       "      <td>No</td>\n",
       "      <td>No</td>\n",
       "      <td>No</td>\n",
       "      <td>No</td>\n",
       "      <td>No</td>\n",
       "      <td>Yes</td>\n",
       "    </tr>\n",
       "  </tbody>\n",
       "</table>\n",
       "</div>"
      ],
      "text/plain": [
       "   patient_id  gender      age  time_in_hospital  num_lab_procedures  \\\n",
       "0    75148425  Female  [60-70)               8.0                53.0   \n",
       "1   160958849    Male  [20-30)               6.0                 3.0   \n",
       "2    89060535    Male  [70-80)               3.0                28.0   \n",
       "3     5995206    Male  [60-70)               2.0                39.0   \n",
       "4    71726355  Female  [80-90)               1.0                 2.0   \n",
       "\n",
       "   num_procedures  num_medications  number_diagnoses glucose_test  \\\n",
       "0             3.0             31.0               9.0          NaN   \n",
       "1             0.0              8.0               7.0          NaN   \n",
       "2             1.0             14.0               9.0          NaN   \n",
       "3             1.0             10.0               9.0          NaN   \n",
       "4             1.0             10.0               6.0          NaN   \n",
       "\n",
       "  insulin_change diabetes_drug_1 diabetes_drug_2 medication_change followup  \\\n",
       "0           Down              No              No               Yes       No   \n",
       "1             No              No              No                No       No   \n",
       "2             No              No              No               Yes      Yes   \n",
       "3           Down              No              No               Yes      Yes   \n",
       "4             No              No              No                No       No   \n",
       "\n",
       "  opted  \n",
       "0   Yes  \n",
       "1    No  \n",
       "2   Yes  \n",
       "3   Yes  \n",
       "4   Yes  "
      ]
     },
     "execution_count": 4,
     "metadata": {},
     "output_type": "execute_result"
    }
   ],
   "source": [
    "# Data Exploration\n",
    "train_data.head()"
   ]
  },
  {
   "cell_type": "code",
   "execution_count": 5,
   "id": "43cd5763-5ba6-4bc5-9294-d716b4101964",
   "metadata": {
    "colab": {
     "base_uri": "https://localhost:8080/"
    },
    "id": "43cd5763-5ba6-4bc5-9294-d716b4101964",
    "outputId": "4f6b74da-8ece-4da0-9f61-ccb64f20d00d"
   },
   "outputs": [
    {
     "name": "stdout",
     "output_type": "stream",
     "text": [
      "<class 'pandas.core.frame.DataFrame'>\n",
      "RangeIndex: 8000 entries, 0 to 7999\n",
      "Data columns (total 15 columns):\n",
      " #   Column              Non-Null Count  Dtype  \n",
      "---  ------              --------------  -----  \n",
      " 0   patient_id          8000 non-null   int64  \n",
      " 1   gender              8000 non-null   object \n",
      " 2   age                 8000 non-null   object \n",
      " 3   time_in_hospital    7682 non-null   float64\n",
      " 4   num_lab_procedures  7616 non-null   float64\n",
      " 5   num_procedures      7403 non-null   float64\n",
      " 6   num_medications     7688 non-null   float64\n",
      " 7   number_diagnoses    7732 non-null   float64\n",
      " 8   glucose_test        382 non-null    object \n",
      " 9   insulin_change      8000 non-null   object \n",
      " 10  diabetes_drug_1     8000 non-null   object \n",
      " 11  diabetes_drug_2     8000 non-null   object \n",
      " 12  medication_change   8000 non-null   object \n",
      " 13  followup            8000 non-null   object \n",
      " 14  opted               8000 non-null   object \n",
      "dtypes: float64(5), int64(1), object(9)\n",
      "memory usage: 937.6+ KB\n"
     ]
    }
   ],
   "source": [
    "train_data.info() # Check data types and missing values"
   ]
  },
  {
   "cell_type": "code",
   "execution_count": 6,
   "id": "4b611581-cf09-4587-9889-ff1c6f0d28b2",
   "metadata": {
    "colab": {
     "base_uri": "https://localhost:8080/",
     "height": 320
    },
    "id": "4b611581-cf09-4587-9889-ff1c6f0d28b2",
    "outputId": "12ef1de0-af2c-44f9-b41b-99c9341cbd23"
   },
   "outputs": [
    {
     "data": {
      "text/html": [
       "<div>\n",
       "<style scoped>\n",
       "    .dataframe tbody tr th:only-of-type {\n",
       "        vertical-align: middle;\n",
       "    }\n",
       "\n",
       "    .dataframe tbody tr th {\n",
       "        vertical-align: top;\n",
       "    }\n",
       "\n",
       "    .dataframe thead th {\n",
       "        text-align: right;\n",
       "    }\n",
       "</style>\n",
       "<table border=\"1\" class=\"dataframe\">\n",
       "  <thead>\n",
       "    <tr style=\"text-align: right;\">\n",
       "      <th></th>\n",
       "      <th>patient_id</th>\n",
       "      <th>time_in_hospital</th>\n",
       "      <th>num_lab_procedures</th>\n",
       "      <th>num_procedures</th>\n",
       "      <th>num_medications</th>\n",
       "      <th>number_diagnoses</th>\n",
       "    </tr>\n",
       "  </thead>\n",
       "  <tbody>\n",
       "    <tr>\n",
       "      <th>count</th>\n",
       "      <td>8.000000e+03</td>\n",
       "      <td>7682.000000</td>\n",
       "      <td>7616.000000</td>\n",
       "      <td>7403.000000</td>\n",
       "      <td>7688.000000</td>\n",
       "      <td>7732.000000</td>\n",
       "    </tr>\n",
       "    <tr>\n",
       "      <th>mean</th>\n",
       "      <td>5.448525e+07</td>\n",
       "      <td>4.407967</td>\n",
       "      <td>42.883403</td>\n",
       "      <td>1.348372</td>\n",
       "      <td>16.028746</td>\n",
       "      <td>7.431066</td>\n",
       "    </tr>\n",
       "    <tr>\n",
       "      <th>std</th>\n",
       "      <td>3.880233e+07</td>\n",
       "      <td>3.044765</td>\n",
       "      <td>19.501201</td>\n",
       "      <td>1.725508</td>\n",
       "      <td>8.134573</td>\n",
       "      <td>1.935456</td>\n",
       "    </tr>\n",
       "    <tr>\n",
       "      <th>min</th>\n",
       "      <td>5.220000e+03</td>\n",
       "      <td>1.000000</td>\n",
       "      <td>1.000000</td>\n",
       "      <td>0.000000</td>\n",
       "      <td>1.000000</td>\n",
       "      <td>1.000000</td>\n",
       "    </tr>\n",
       "    <tr>\n",
       "      <th>25%</th>\n",
       "      <td>2.342822e+07</td>\n",
       "      <td>2.000000</td>\n",
       "      <td>32.000000</td>\n",
       "      <td>0.000000</td>\n",
       "      <td>10.000000</td>\n",
       "      <td>6.000000</td>\n",
       "    </tr>\n",
       "    <tr>\n",
       "      <th>50%</th>\n",
       "      <td>4.545385e+07</td>\n",
       "      <td>4.000000</td>\n",
       "      <td>44.000000</td>\n",
       "      <td>1.000000</td>\n",
       "      <td>15.000000</td>\n",
       "      <td>8.000000</td>\n",
       "    </tr>\n",
       "    <tr>\n",
       "      <th>75%</th>\n",
       "      <td>8.835727e+07</td>\n",
       "      <td>6.000000</td>\n",
       "      <td>57.000000</td>\n",
       "      <td>2.000000</td>\n",
       "      <td>20.000000</td>\n",
       "      <td>9.000000</td>\n",
       "    </tr>\n",
       "    <tr>\n",
       "      <th>max</th>\n",
       "      <td>1.892578e+08</td>\n",
       "      <td>14.000000</td>\n",
       "      <td>113.000000</td>\n",
       "      <td>6.000000</td>\n",
       "      <td>67.000000</td>\n",
       "      <td>16.000000</td>\n",
       "    </tr>\n",
       "  </tbody>\n",
       "</table>\n",
       "</div>"
      ],
      "text/plain": [
       "         patient_id  time_in_hospital  num_lab_procedures  num_procedures  \\\n",
       "count  8.000000e+03       7682.000000         7616.000000     7403.000000   \n",
       "mean   5.448525e+07          4.407967           42.883403        1.348372   \n",
       "std    3.880233e+07          3.044765           19.501201        1.725508   \n",
       "min    5.220000e+03          1.000000            1.000000        0.000000   \n",
       "25%    2.342822e+07          2.000000           32.000000        0.000000   \n",
       "50%    4.545385e+07          4.000000           44.000000        1.000000   \n",
       "75%    8.835727e+07          6.000000           57.000000        2.000000   \n",
       "max    1.892578e+08         14.000000          113.000000        6.000000   \n",
       "\n",
       "       num_medications  number_diagnoses  \n",
       "count      7688.000000       7732.000000  \n",
       "mean         16.028746          7.431066  \n",
       "std           8.134573          1.935456  \n",
       "min           1.000000          1.000000  \n",
       "25%          10.000000          6.000000  \n",
       "50%          15.000000          8.000000  \n",
       "75%          20.000000          9.000000  \n",
       "max          67.000000         16.000000  "
      ]
     },
     "execution_count": 6,
     "metadata": {},
     "output_type": "execute_result"
    }
   ],
   "source": [
    "train_data.describe()  # Statistical summary of numerical features"
   ]
  },
  {
   "cell_type": "markdown",
   "id": "ee657f14-98d6-4a6e-b746-399e94861f8d",
   "metadata": {
    "id": "ee657f14-98d6-4a6e-b746-399e94861f8d"
   },
   "source": [
    "*Visualize distributions*"
   ]
  },
  {
   "cell_type": "code",
   "execution_count": 7,
   "id": "91c29206-95e8-44da-9b87-cfd4056fb5d6",
   "metadata": {
    "colab": {
     "base_uri": "https://localhost:8080/",
     "height": 704
    },
    "id": "91c29206-95e8-44da-9b87-cfd4056fb5d6",
    "outputId": "ff429553-f028-4ce6-913f-8d6777f3d398"
   },
   "outputs": [
    {
     "data": {
      "image/png": "[encoded data removed]",
      "text/plain": [
       "<Figure size 1200x1000 with 6 Axes>"
      ]
     },
     "metadata": {},
     "output_type": "display_data"
    }
   ],
   "source": [
    "train_data.hist(figsize=(12, 10))\n",
    "plt.show()"
   ]
  },
  {
   "cell_type": "code",
   "execution_count": 8,
   "id": "4ba8ba52-ede5-4bbd-966b-8cb15cc81037",
   "metadata": {
    "colab": {
     "base_uri": "https://localhost:8080/",
     "height": 215
    },
    "id": "4ba8ba52-ede5-4bbd-966b-8cb15cc81037",
    "outputId": "cdc78433-aa15-443f-8b19-6a8b5e7c00e4"
   },
   "outputs": [
    {
     "data": {
      "text/html": [
       "<div>\n",
       "<style scoped>\n",
       "    .dataframe tbody tr th:only-of-type {\n",
       "        vertical-align: middle;\n",
       "    }\n",
       "\n",
       "    .dataframe tbody tr th {\n",
       "        vertical-align: top;\n",
       "    }\n",
       "\n",
       "    .dataframe thead th {\n",
       "        text-align: right;\n",
       "    }\n",
       "</style>\n",
       "<table border=\"1\" class=\"dataframe\">\n",
       "  <thead>\n",
       "    <tr style=\"text-align: right;\">\n",
       "      <th></th>\n",
       "      <th>patient_id</th>\n",
       "      <th>gender</th>\n",
       "      <th>age</th>\n",
       "      <th>time_in_hospital</th>\n",
       "      <th>num_lab_procedures</th>\n",
       "      <th>num_procedures</th>\n",
       "      <th>num_medications</th>\n",
       "      <th>number_diagnoses</th>\n",
       "      <th>glucose_test</th>\n",
       "      <th>insulin_change</th>\n",
       "      <th>diabetes_drug_1</th>\n",
       "      <th>diabetes_drug_2</th>\n",
       "      <th>medication_change</th>\n",
       "      <th>followup</th>\n",
       "      <th>opted</th>\n",
       "    </tr>\n",
       "  </thead>\n",
       "  <tbody>\n",
       "    <tr>\n",
       "      <th>0</th>\n",
       "      <td>75148425</td>\n",
       "      <td>Female</td>\n",
       "      <td>[60-70)</td>\n",
       "      <td>8.0</td>\n",
       "      <td>53.0</td>\n",
       "      <td>3.0</td>\n",
       "      <td>31.0</td>\n",
       "      <td>9.0</td>\n",
       "      <td>NaN</td>\n",
       "      <td>Down</td>\n",
       "      <td>No</td>\n",
       "      <td>No</td>\n",
       "      <td>Yes</td>\n",
       "      <td>No</td>\n",
       "      <td>Yes</td>\n",
       "    </tr>\n",
       "    <tr>\n",
       "      <th>1</th>\n",
       "      <td>160958849</td>\n",
       "      <td>Male</td>\n",
       "      <td>[20-30)</td>\n",
       "      <td>6.0</td>\n",
       "      <td>3.0</td>\n",
       "      <td>0.0</td>\n",
       "      <td>8.0</td>\n",
       "      <td>7.0</td>\n",
       "      <td>NaN</td>\n",
       "      <td>No</td>\n",
       "      <td>No</td>\n",
       "      <td>No</td>\n",
       "      <td>No</td>\n",
       "      <td>No</td>\n",
       "      <td>No</td>\n",
       "    </tr>\n",
       "    <tr>\n",
       "      <th>2</th>\n",
       "      <td>89060535</td>\n",
       "      <td>Male</td>\n",
       "      <td>[70-80)</td>\n",
       "      <td>3.0</td>\n",
       "      <td>28.0</td>\n",
       "      <td>1.0</td>\n",
       "      <td>14.0</td>\n",
       "      <td>9.0</td>\n",
       "      <td>NaN</td>\n",
       "      <td>No</td>\n",
       "      <td>No</td>\n",
       "      <td>No</td>\n",
       "      <td>Yes</td>\n",
       "      <td>Yes</td>\n",
       "      <td>Yes</td>\n",
       "    </tr>\n",
       "  </tbody>\n",
       "</table>\n",
       "</div>"
      ],
      "text/plain": [
       "   patient_id  gender      age  time_in_hospital  num_lab_procedures  \\\n",
       "0    75148425  Female  [60-70)               8.0                53.0   \n",
       "1   160958849    Male  [20-30)               6.0                 3.0   \n",
       "2    89060535    Male  [70-80)               3.0                28.0   \n",
       "\n",
       "   num_procedures  num_medications  number_diagnoses glucose_test  \\\n",
       "0             3.0             31.0               9.0          NaN   \n",
       "1             0.0              8.0               7.0          NaN   \n",
       "2             1.0             14.0               9.0          NaN   \n",
       "\n",
       "  insulin_change diabetes_drug_1 diabetes_drug_2 medication_change followup  \\\n",
       "0           Down              No              No               Yes       No   \n",
       "1             No              No              No                No       No   \n",
       "2             No              No              No               Yes      Yes   \n",
       "\n",
       "  opted  \n",
       "0   Yes  \n",
       "1    No  \n",
       "2   Yes  "
      ]
     },
     "execution_count": 8,
     "metadata": {},
     "output_type": "execute_result"
    }
   ],
   "source": [
    "train_data.head(3)"
   ]
  },
  {
   "cell_type": "markdown",
   "id": "7d14845c-e267-4cd5-991f-a1ac905174d0",
   "metadata": {
    "id": "7d14845c-e267-4cd5-991f-a1ac905174d0"
   },
   "source": [
    "# Data Cleaning & Feature Engineering"
   ]
  },
  {
   "cell_type": "code",
   "execution_count": 9,
   "id": "991242fc-8c02-4058-bd74-8aea012202df",
   "metadata": {
    "id": "991242fc-8c02-4058-bd74-8aea012202df"
   },
   "outputs": [],
   "source": [
    "def get_age_range(age_data):\n",
    "    \"\"\"\n",
    "    Transforming & extracting age range.\n",
    "\n",
    "    :param: <str> data of \"age\" column from train df\n",
    "        age_data:[60-70)\n",
    "    :returns: <list>\n",
    "        [60, 70]\n",
    "    \"\"\"\n",
    "    return [int(age) for age in age_data.replace(\"[\", \"\").replace(\")\", \"\").split('-')]"
   ]
  },
  {
   "cell_type": "code",
   "execution_count": 10,
   "id": "8bfcdfe0-9e0a-48f6-ad8b-2875776f932d",
   "metadata": {
    "colab": {
     "base_uri": "https://localhost:8080/"
    },
    "id": "8bfcdfe0-9e0a-48f6-ad8b-2875776f932d",
    "outputId": "91102123-6adf-4928-fc3a-0380290c52f1"
   },
   "outputs": [
    {
     "data": {
      "text/plain": [
       "[60, 70]"
      ]
     },
     "execution_count": 10,
     "metadata": {},
     "output_type": "execute_result"
    }
   ],
   "source": [
    "# sampling the function\n",
    "get_age_range(age_data=train_data.iloc[0]['age'])"
   ]
  },
  {
   "cell_type": "markdown",
   "id": "c229188d-4de6-4bc1-9707-2295dd4b228f",
   "metadata": {
    "id": "c229188d-4de6-4bc1-9707-2295dd4b228f"
   },
   "source": [
    "<h4>creating age feature as two columns to make the data more meaningful for the model to train on.</h4>"
   ]
  },
  {
   "cell_type": "code",
   "execution_count": 11,
   "id": "5e92220e-f66e-458c-9f0c-6b2e7528c292",
   "metadata": {
    "id": "5e92220e-f66e-458c-9f0c-6b2e7528c292"
   },
   "outputs": [],
   "source": [
    "train_data[['age_start_range', 'age_end_range']] = train_data['age'].apply(lambda x: pd.Series(get_age_range(x)))"
   ]
  },
  {
   "cell_type": "code",
   "execution_count": 12,
   "id": "b5468ae4-fc99-4709-a3bd-c567be2ed961",
   "metadata": {
    "colab": {
     "base_uri": "https://localhost:8080/",
     "height": 215
    },
    "id": "b5468ae4-fc99-4709-a3bd-c567be2ed961",
    "outputId": "153b086c-7b74-4efe-e668-167a6b09220a"
   },
   "outputs": [
    {
     "data": {
      "text/html": [
       "<div>\n",
       "<style scoped>\n",
       "    .dataframe tbody tr th:only-of-type {\n",
       "        vertical-align: middle;\n",
       "    }\n",
       "\n",
       "    .dataframe tbody tr th {\n",
       "        vertical-align: top;\n",
       "    }\n",
       "\n",
       "    .dataframe thead th {\n",
       "        text-align: right;\n",
       "    }\n",
       "</style>\n",
       "<table border=\"1\" class=\"dataframe\">\n",
       "  <thead>\n",
       "    <tr style=\"text-align: right;\">\n",
       "      <th></th>\n",
       "      <th>patient_id</th>\n",
       "      <th>gender</th>\n",
       "      <th>age</th>\n",
       "      <th>time_in_hospital</th>\n",
       "      <th>num_lab_procedures</th>\n",
       "      <th>num_procedures</th>\n",
       "      <th>num_medications</th>\n",
       "      <th>number_diagnoses</th>\n",
       "      <th>glucose_test</th>\n",
       "      <th>insulin_change</th>\n",
       "      <th>diabetes_drug_1</th>\n",
       "      <th>diabetes_drug_2</th>\n",
       "      <th>medication_change</th>\n",
       "      <th>followup</th>\n",
       "      <th>opted</th>\n",
       "      <th>age_start_range</th>\n",
       "      <th>age_end_range</th>\n",
       "    </tr>\n",
       "  </thead>\n",
       "  <tbody>\n",
       "    <tr>\n",
       "      <th>0</th>\n",
       "      <td>75148425</td>\n",
       "      <td>Female</td>\n",
       "      <td>[60-70)</td>\n",
       "      <td>8.0</td>\n",
       "      <td>53.0</td>\n",
       "      <td>3.0</td>\n",
       "      <td>31.0</td>\n",
       "      <td>9.0</td>\n",
       "      <td>NaN</td>\n",
       "      <td>Down</td>\n",
       "      <td>No</td>\n",
       "      <td>No</td>\n",
       "      <td>Yes</td>\n",
       "      <td>No</td>\n",
       "      <td>Yes</td>\n",
       "      <td>60</td>\n",
       "      <td>70</td>\n",
       "    </tr>\n",
       "    <tr>\n",
       "      <th>1</th>\n",
       "      <td>160958849</td>\n",
       "      <td>Male</td>\n",
       "      <td>[20-30)</td>\n",
       "      <td>6.0</td>\n",
       "      <td>3.0</td>\n",
       "      <td>0.0</td>\n",
       "      <td>8.0</td>\n",
       "      <td>7.0</td>\n",
       "      <td>NaN</td>\n",
       "      <td>No</td>\n",
       "      <td>No</td>\n",
       "      <td>No</td>\n",
       "      <td>No</td>\n",
       "      <td>No</td>\n",
       "      <td>No</td>\n",
       "      <td>20</td>\n",
       "      <td>30</td>\n",
       "    </tr>\n",
       "    <tr>\n",
       "      <th>2</th>\n",
       "      <td>89060535</td>\n",
       "      <td>Male</td>\n",
       "      <td>[70-80)</td>\n",
       "      <td>3.0</td>\n",
       "      <td>28.0</td>\n",
       "      <td>1.0</td>\n",
       "      <td>14.0</td>\n",
       "      <td>9.0</td>\n",
       "      <td>NaN</td>\n",
       "      <td>No</td>\n",
       "      <td>No</td>\n",
       "      <td>No</td>\n",
       "      <td>Yes</td>\n",
       "      <td>Yes</td>\n",
       "      <td>Yes</td>\n",
       "      <td>70</td>\n",
       "      <td>80</td>\n",
       "    </tr>\n",
       "  </tbody>\n",
       "</table>\n",
       "</div>"
      ],
      "text/plain": [
       "   patient_id  gender      age  time_in_hospital  num_lab_procedures  \\\n",
       "0    75148425  Female  [60-70)               8.0                53.0   \n",
       "1   160958849    Male  [20-30)               6.0                 3.0   \n",
       "2    89060535    Male  [70-80)               3.0                28.0   \n",
       "\n",
       "   num_procedures  num_medications  number_diagnoses glucose_test  \\\n",
       "0             3.0             31.0               9.0          NaN   \n",
       "1             0.0              8.0               7.0          NaN   \n",
       "2             1.0             14.0               9.0          NaN   \n",
       "\n",
       "  insulin_change diabetes_drug_1 diabetes_drug_2 medication_change followup  \\\n",
       "0           Down              No              No               Yes       No   \n",
       "1             No              No              No                No       No   \n",
       "2             No              No              No               Yes      Yes   \n",
       "\n",
       "  opted  age_start_range  age_end_range  \n",
       "0   Yes               60             70  \n",
       "1    No               20             30  \n",
       "2   Yes               70             80  "
      ]
     },
     "execution_count": 12,
     "metadata": {},
     "output_type": "execute_result"
    }
   ],
   "source": [
    "train_data.head(3)"
   ]
  },
  {
   "cell_type": "code",
   "execution_count": 13,
   "id": "ca345e75-2644-44b4-9ca2-e43887f4adab",
   "metadata": {
    "id": "ca345e75-2644-44b4-9ca2-e43887f4adab"
   },
   "outputs": [],
   "source": [
    "# doing same for the test data\n",
    "test_data[['age_start_range', 'age_end_range']] = test_data['age'].apply(lambda x: pd.Series(get_age_range(x)))"
   ]
  },
  {
   "cell_type": "code",
   "execution_count": 14,
   "id": "1cdaa9ec-4acc-48af-88cc-55d97102b5e9",
   "metadata": {
    "colab": {
     "base_uri": "https://localhost:8080/"
    },
    "id": "1cdaa9ec-4acc-48af-88cc-55d97102b5e9",
    "outputId": "28f0166a-9267-432b-9174-d479008131c3"
   },
   "outputs": [
    {
     "data": {
      "text/plain": [
       "gender\n",
       "Female    4339\n",
       "Male      3661\n",
       "Name: count, dtype: int64"
      ]
     },
     "execution_count": 14,
     "metadata": {},
     "output_type": "execute_result"
    }
   ],
   "source": [
    "train_data['gender'].value_counts()"
   ]
  },
  {
   "cell_type": "markdown",
   "id": "c3fc0174-e4e2-4dcb-a5de-74dabdc523da",
   "metadata": {
    "id": "c3fc0174-e4e2-4dcb-a5de-74dabdc523da"
   },
   "source": [
    "<h2>\n",
    "    Converting categorial data\n",
    "</h2>\n",
    "\n",
    "* converting categorial data to numeric format so that model can be train on the pattern."
   ]
  },
  {
   "cell_type": "code",
   "execution_count": 15,
   "id": "646b5f5f-e53a-4a84-8d0a-ec593811d957",
   "metadata": {
    "id": "646b5f5f-e53a-4a84-8d0a-ec593811d957"
   },
   "outputs": [],
   "source": [
    "from sklearn.preprocessing import LabelEncoder\n",
    "\n",
    "label_encoder = LabelEncoder()\n",
    "\n",
    "# List of columns to encode\n",
    "columns_to_encode = ['gender', 'insulin_change', 'diabetes_drug_1', 'diabetes_drug_2', 'medication_change', 'followup', 'opted']\n",
    "\n",
    "# Fit and transform on the training data for each column\n",
    "for column in columns_to_encode:\n",
    "    label_encoder.fit(train_data[column])\n",
    "    train_data[f'{column}_encoded'] = label_encoder.transform(train_data[column])\n",
    "    if column != 'opted':\n",
    "        test_data[f'{column}_encoded'] = label_encoder.transform(test_data[column])\n"
   ]
  },
  {
   "cell_type": "markdown",
   "id": "017fd416-0024-4d89-9d99-777a5216007d",
   "metadata": {
    "id": "017fd416-0024-4d89-9d99-777a5216007d"
   },
   "source": [
    "<h4>\n",
    "    Dropping the columns that are being converted to the encoded.\n",
    "</h4>"
   ]
  },
  {
   "cell_type": "code",
   "execution_count": 16,
   "id": "9d001f0d-fbc4-441f-bc14-00878f5f5052",
   "metadata": {
    "id": "9d001f0d-fbc4-441f-bc14-00878f5f5052"
   },
   "outputs": [],
   "source": [
    "train_data.drop(columns=['patient_id', 'age', 'gender', 'insulin_change', 'diabetes_drug_1', \\\n",
    "                         'diabetes_drug_2', 'medication_change', 'followup', 'opted'],\n",
    "                axis=1,\n",
    "                inplace=True)\n",
    "\n",
    "test_data.drop(columns=['age','gender', 'insulin_change', 'diabetes_drug_1', \\\n",
    "                         'diabetes_drug_2', 'medication_change', 'followup'],\n",
    "                axis=1,\n",
    "                inplace=True)"
   ]
  },
  {
   "cell_type": "code",
   "execution_count": 17,
   "id": "840260a0-4e50-4b47-9b39-ee9ac6e9fb3d",
   "metadata": {
    "colab": {
     "base_uri": "https://localhost:8080/",
     "height": 163
    },
    "id": "840260a0-4e50-4b47-9b39-ee9ac6e9fb3d",
    "outputId": "284f796a-a03b-4c21-9951-5f714f31245b"
   },
   "outputs": [
    {
     "data": {
      "text/html": [
       "<div>\n",
       "<style scoped>\n",
       "    .dataframe tbody tr th:only-of-type {\n",
       "        vertical-align: middle;\n",
       "    }\n",
       "\n",
       "    .dataframe tbody tr th {\n",
       "        vertical-align: top;\n",
       "    }\n",
       "\n",
       "    .dataframe thead th {\n",
       "        text-align: right;\n",
       "    }\n",
       "</style>\n",
       "<table border=\"1\" class=\"dataframe\">\n",
       "  <thead>\n",
       "    <tr style=\"text-align: right;\">\n",
       "      <th></th>\n",
       "      <th>time_in_hospital</th>\n",
       "      <th>num_lab_procedures</th>\n",
       "      <th>num_procedures</th>\n",
       "      <th>num_medications</th>\n",
       "      <th>number_diagnoses</th>\n",
       "      <th>glucose_test</th>\n",
       "      <th>age_start_range</th>\n",
       "      <th>age_end_range</th>\n",
       "      <th>gender_encoded</th>\n",
       "      <th>insulin_change_encoded</th>\n",
       "      <th>diabetes_drug_1_encoded</th>\n",
       "      <th>diabetes_drug_2_encoded</th>\n",
       "      <th>medication_change_encoded</th>\n",
       "      <th>followup_encoded</th>\n",
       "      <th>opted_encoded</th>\n",
       "    </tr>\n",
       "  </thead>\n",
       "  <tbody>\n",
       "    <tr>\n",
       "      <th>0</th>\n",
       "      <td>8.0</td>\n",
       "      <td>53.0</td>\n",
       "      <td>3.0</td>\n",
       "      <td>31.0</td>\n",
       "      <td>9.0</td>\n",
       "      <td>NaN</td>\n",
       "      <td>60</td>\n",
       "      <td>70</td>\n",
       "      <td>0</td>\n",
       "      <td>0</td>\n",
       "      <td>1</td>\n",
       "      <td>1</td>\n",
       "      <td>1</td>\n",
       "      <td>0</td>\n",
       "      <td>1</td>\n",
       "    </tr>\n",
       "    <tr>\n",
       "      <th>1</th>\n",
       "      <td>6.0</td>\n",
       "      <td>3.0</td>\n",
       "      <td>0.0</td>\n",
       "      <td>8.0</td>\n",
       "      <td>7.0</td>\n",
       "      <td>NaN</td>\n",
       "      <td>20</td>\n",
       "      <td>30</td>\n",
       "      <td>1</td>\n",
       "      <td>1</td>\n",
       "      <td>1</td>\n",
       "      <td>1</td>\n",
       "      <td>0</td>\n",
       "      <td>0</td>\n",
       "      <td>0</td>\n",
       "    </tr>\n",
       "    <tr>\n",
       "      <th>2</th>\n",
       "      <td>3.0</td>\n",
       "      <td>28.0</td>\n",
       "      <td>1.0</td>\n",
       "      <td>14.0</td>\n",
       "      <td>9.0</td>\n",
       "      <td>NaN</td>\n",
       "      <td>70</td>\n",
       "      <td>80</td>\n",
       "      <td>1</td>\n",
       "      <td>1</td>\n",
       "      <td>1</td>\n",
       "      <td>1</td>\n",
       "      <td>1</td>\n",
       "      <td>1</td>\n",
       "      <td>1</td>\n",
       "    </tr>\n",
       "  </tbody>\n",
       "</table>\n",
       "</div>"
      ],
      "text/plain": [
       "   time_in_hospital  num_lab_procedures  num_procedures  num_medications  \\\n",
       "0               8.0                53.0             3.0             31.0   \n",
       "1               6.0                 3.0             0.0              8.0   \n",
       "2               3.0                28.0             1.0             14.0   \n",
       "\n",
       "   number_diagnoses glucose_test  age_start_range  age_end_range  \\\n",
       "0               9.0          NaN               60             70   \n",
       "1               7.0          NaN               20             30   \n",
       "2               9.0          NaN               70             80   \n",
       "\n",
       "   gender_encoded  insulin_change_encoded  diabetes_drug_1_encoded  \\\n",
       "0               0                       0                        1   \n",
       "1               1                       1                        1   \n",
       "2               1                       1                        1   \n",
       "\n",
       "   diabetes_drug_2_encoded  medication_change_encoded  followup_encoded  \\\n",
       "0                        1                          1                 0   \n",
       "1                        1                          0                 0   \n",
       "2                        1                          1                 1   \n",
       "\n",
       "   opted_encoded  \n",
       "0              1  \n",
       "1              0  \n",
       "2              1  "
      ]
     },
     "execution_count": 17,
     "metadata": {},
     "output_type": "execute_result"
    }
   ],
   "source": [
    "train_data.head(3)"
   ]
  },
  {
   "cell_type": "code",
   "execution_count": 18,
   "id": "43473286-8232-4769-bb70-20a24a01aaf3",
   "metadata": {
    "id": "43473286-8232-4769-bb70-20a24a01aaf3"
   },
   "outputs": [],
   "source": [
    "def fill_mode(df, col_name):\n",
    "    \"\"\"\n",
    "    Fill missing values with the mode\n",
    "    \"\"\"\n",
    "    mode_value = df[col_name].mode()[0]\n",
    "    df[col_name].fillna(mode_value, inplace=True)\n",
    "    return df"
   ]
  },
  {
   "cell_type": "code",
   "execution_count": 19,
   "id": "9c23cb7e-90f5-490f-9c83-578edef763f9",
   "metadata": {
    "colab": {
     "base_uri": "https://localhost:8080/"
    },
    "id": "9c23cb7e-90f5-490f-9c83-578edef763f9",
    "outputId": "8d71b275-3800-4b0a-947b-8ec578779b7b"
   },
   "outputs": [
    {
     "name": "stdout",
     "output_type": "stream",
     "text": [
      "null values:  7618  out of : 8000\n"
     ]
    }
   ],
   "source": [
    "print('null values: ', sum(train_data['glucose_test'].isnull()), ' out of :', len(train_data))"
   ]
  },
  {
   "cell_type": "code",
   "execution_count": 20,
   "id": "b87ecde2-1c42-409e-937a-cb03425f906f",
   "metadata": {
    "colab": {
     "base_uri": "https://localhost:8080/"
    },
    "id": "b87ecde2-1c42-409e-937a-cb03425f906f",
    "outputId": "1d8fdd45-09e1-4941-e402-65670dcb58e2"
   },
   "outputs": [
    {
     "data": {
      "text/plain": [
       "95.22500000000001"
      ]
     },
     "execution_count": 20,
     "metadata": {},
     "output_type": "execute_result"
    }
   ],
   "source": [
    "missing_percentage = (7618 / 8000) * 100\n",
    "missing_percentage"
   ]
  },
  {
   "cell_type": "markdown",
   "id": "154592ca-5071-4846-984e-cdc0a5596093",
   "metadata": {
    "id": "154592ca-5071-4846-984e-cdc0a5596093"
   },
   "source": [
    "<h4>\n",
    "    <ul>\n",
    "        <li>\n",
    "            As being observed <u>glucose_test</u> has more than 95% data is missing, due to this we're not considering this column,so we're dropping it.\n",
    "        </li>\n",
    "        <br>\n",
    "        <br>\n",
    "        <li>\n",
    "        Because if we impute and this feature to train the model then it will decrease the accuracy of the model.\n",
    "        </li>\n",
    "    </ul>\n",
    "    \n",
    "    \n",
    "</h4>\n"
   ]
  },
  {
   "cell_type": "code",
   "execution_count": 21,
   "id": "7d6f3755-37e3-426f-9241-31a11de72114",
   "metadata": {
    "id": "7d6f3755-37e3-426f-9241-31a11de72114"
   },
   "outputs": [],
   "source": [
    "train_data.drop(columns=['glucose_test'], axis=1, inplace=True)"
   ]
  },
  {
   "cell_type": "code",
   "execution_count": 22,
   "id": "0fca8868-79c6-4bcd-96a3-29b824c20108",
   "metadata": {
    "id": "0fca8868-79c6-4bcd-96a3-29b824c20108"
   },
   "outputs": [],
   "source": [
    "test_data.drop(columns=['glucose_test'], axis=1, inplace=True)"
   ]
  },
  {
   "cell_type": "code",
   "execution_count": 23,
   "id": "52adfe9a-025e-4cff-aee5-ca334a9a3e95",
   "metadata": {
    "colab": {
     "base_uri": "https://localhost:8080/"
    },
    "id": "52adfe9a-025e-4cff-aee5-ca334a9a3e95",
    "outputId": "873b36da-6a30-48d3-a13b-4eaee8012402"
   },
   "outputs": [
    {
     "data": {
      "text/plain": [
       "time_in_hospital             318\n",
       "num_lab_procedures           384\n",
       "num_procedures               597\n",
       "num_medications              312\n",
       "number_diagnoses             268\n",
       "age_start_range                0\n",
       "age_end_range                  0\n",
       "gender_encoded                 0\n",
       "insulin_change_encoded         0\n",
       "diabetes_drug_1_encoded        0\n",
       "diabetes_drug_2_encoded        0\n",
       "medication_change_encoded      0\n",
       "followup_encoded               0\n",
       "opted_encoded                  0\n",
       "dtype: int64"
      ]
     },
     "execution_count": 23,
     "metadata": {},
     "output_type": "execute_result"
    }
   ],
   "source": [
    "train_data.isnull().sum()"
   ]
  },
  {
   "cell_type": "markdown",
   "id": "ccf0db70-7938-4b7e-97b0-5d7889780a7d",
   "metadata": {
    "id": "ccf0db70-7938-4b7e-97b0-5d7889780a7d"
   },
   "source": [
    "### As being observed in above cell we do have a lot of null values in the dataset.\n",
    "\n",
    "<h4>\n",
    "    <i>that we need to impute with relevance impute functions</i>\n",
    "</h4>\n",
    "\n"
   ]
  },
  {
   "cell_type": "code",
   "execution_count": 24,
   "id": "23bbf964-47f5-428b-8437-77e5046c2463",
   "metadata": {
    "colab": {
     "base_uri": "https://localhost:8080/"
    },
    "id": "23bbf964-47f5-428b-8437-77e5046c2463",
    "outputId": "fb6a6d6e-c934-435a-dba8-692d2f117994"
   },
   "outputs": [
    {
     "data": {
      "text/plain": [
       "(1.0, 14.0)"
      ]
     },
     "execution_count": 24,
     "metadata": {},
     "output_type": "execute_result"
    }
   ],
   "source": [
    "train_data['time_in_hospital'].min(), train_data['time_in_hospital'].max()"
   ]
  },
  {
   "cell_type": "code",
   "execution_count": 25,
   "id": "14fdfa90-0467-41a2-aeb8-be27ae816af7",
   "metadata": {
    "colab": {
     "base_uri": "https://localhost:8080/",
     "height": 489
    },
    "id": "14fdfa90-0467-41a2-aeb8-be27ae816af7",
    "outputId": "eec058ea-7015-46e9-a352-cdf75cf399e1"
   },
   "outputs": [
    {
     "data": {
      "image/png": "[encoded data removed]",
      "text/plain": [
       "<Figure size 640x480 with 1 Axes>"
      ]
     },
     "metadata": {},
     "output_type": "display_data"
    }
   ],
   "source": [
    "import matplotlib.pyplot as plt\n",
    "\n",
    "train_data['time_in_hospital'].value_counts().sort_index().plot(kind='bar')\n",
    "\n",
    "plt.xlabel('Time in Hospital')\n",
    "plt.ylabel('Count')\n",
    "plt.title('Distribution of Time in Hospital')\n",
    "plt.show()"
   ]
  },
  {
   "cell_type": "code",
   "execution_count": 26,
   "id": "0c6b033c-2a00-49b1-b115-b502bdf3a6fc",
   "metadata": {
    "colab": {
     "base_uri": "https://localhost:8080/",
     "height": 226
    },
    "id": "0c6b033c-2a00-49b1-b115-b502bdf3a6fc",
    "outputId": "b32078d1-c3ee-40f2-f9ff-a1be67a131fe"
   },
   "outputs": [
    {
     "data": {
      "text/html": [
       "<div>\n",
       "<style scoped>\n",
       "    .dataframe tbody tr th:only-of-type {\n",
       "        vertical-align: middle;\n",
       "    }\n",
       "\n",
       "    .dataframe tbody tr th {\n",
       "        vertical-align: top;\n",
       "    }\n",
       "\n",
       "    .dataframe thead th {\n",
       "        text-align: right;\n",
       "    }\n",
       "</style>\n",
       "<table border=\"1\" class=\"dataframe\">\n",
       "  <thead>\n",
       "    <tr style=\"text-align: right;\">\n",
       "      <th></th>\n",
       "      <th>time_in_hospital</th>\n",
       "      <th>num_lab_procedures</th>\n",
       "      <th>num_procedures</th>\n",
       "      <th>num_medications</th>\n",
       "      <th>number_diagnoses</th>\n",
       "      <th>age_start_range</th>\n",
       "      <th>age_end_range</th>\n",
       "      <th>gender_encoded</th>\n",
       "      <th>insulin_change_encoded</th>\n",
       "      <th>diabetes_drug_1_encoded</th>\n",
       "      <th>diabetes_drug_2_encoded</th>\n",
       "      <th>medication_change_encoded</th>\n",
       "      <th>followup_encoded</th>\n",
       "      <th>opted_encoded</th>\n",
       "    </tr>\n",
       "  </thead>\n",
       "  <tbody>\n",
       "    <tr>\n",
       "      <th>0</th>\n",
       "      <td>8.0</td>\n",
       "      <td>53.0</td>\n",
       "      <td>3.0</td>\n",
       "      <td>31.0</td>\n",
       "      <td>9.0</td>\n",
       "      <td>60</td>\n",
       "      <td>70</td>\n",
       "      <td>0</td>\n",
       "      <td>0</td>\n",
       "      <td>1</td>\n",
       "      <td>1</td>\n",
       "      <td>1</td>\n",
       "      <td>0</td>\n",
       "      <td>1</td>\n",
       "    </tr>\n",
       "    <tr>\n",
       "      <th>1</th>\n",
       "      <td>6.0</td>\n",
       "      <td>3.0</td>\n",
       "      <td>0.0</td>\n",
       "      <td>8.0</td>\n",
       "      <td>7.0</td>\n",
       "      <td>20</td>\n",
       "      <td>30</td>\n",
       "      <td>1</td>\n",
       "      <td>1</td>\n",
       "      <td>1</td>\n",
       "      <td>1</td>\n",
       "      <td>0</td>\n",
       "      <td>0</td>\n",
       "      <td>0</td>\n",
       "    </tr>\n",
       "    <tr>\n",
       "      <th>2</th>\n",
       "      <td>3.0</td>\n",
       "      <td>28.0</td>\n",
       "      <td>1.0</td>\n",
       "      <td>14.0</td>\n",
       "      <td>9.0</td>\n",
       "      <td>70</td>\n",
       "      <td>80</td>\n",
       "      <td>1</td>\n",
       "      <td>1</td>\n",
       "      <td>1</td>\n",
       "      <td>1</td>\n",
       "      <td>1</td>\n",
       "      <td>1</td>\n",
       "      <td>1</td>\n",
       "    </tr>\n",
       "    <tr>\n",
       "      <th>3</th>\n",
       "      <td>2.0</td>\n",
       "      <td>39.0</td>\n",
       "      <td>1.0</td>\n",
       "      <td>10.0</td>\n",
       "      <td>9.0</td>\n",
       "      <td>60</td>\n",
       "      <td>70</td>\n",
       "      <td>1</td>\n",
       "      <td>0</td>\n",
       "      <td>1</td>\n",
       "      <td>1</td>\n",
       "      <td>1</td>\n",
       "      <td>1</td>\n",
       "      <td>1</td>\n",
       "    </tr>\n",
       "    <tr>\n",
       "      <th>4</th>\n",
       "      <td>1.0</td>\n",
       "      <td>2.0</td>\n",
       "      <td>1.0</td>\n",
       "      <td>10.0</td>\n",
       "      <td>6.0</td>\n",
       "      <td>80</td>\n",
       "      <td>90</td>\n",
       "      <td>0</td>\n",
       "      <td>1</td>\n",
       "      <td>1</td>\n",
       "      <td>1</td>\n",
       "      <td>0</td>\n",
       "      <td>0</td>\n",
       "      <td>1</td>\n",
       "    </tr>\n",
       "  </tbody>\n",
       "</table>\n",
       "</div>"
      ],
      "text/plain": [
       "   time_in_hospital  num_lab_procedures  num_procedures  num_medications  \\\n",
       "0               8.0                53.0             3.0             31.0   \n",
       "1               6.0                 3.0             0.0              8.0   \n",
       "2               3.0                28.0             1.0             14.0   \n",
       "3               2.0                39.0             1.0             10.0   \n",
       "4               1.0                 2.0             1.0             10.0   \n",
       "\n",
       "   number_diagnoses  age_start_range  age_end_range  gender_encoded  \\\n",
       "0               9.0               60             70               0   \n",
       "1               7.0               20             30               1   \n",
       "2               9.0               70             80               1   \n",
       "3               9.0               60             70               1   \n",
       "4               6.0               80             90               0   \n",
       "\n",
       "   insulin_change_encoded  diabetes_drug_1_encoded  diabetes_drug_2_encoded  \\\n",
       "0                       0                        1                        1   \n",
       "1                       1                        1                        1   \n",
       "2                       1                        1                        1   \n",
       "3                       0                        1                        1   \n",
       "4                       1                        1                        1   \n",
       "\n",
       "   medication_change_encoded  followup_encoded  opted_encoded  \n",
       "0                          1                 0              1  \n",
       "1                          0                 0              0  \n",
       "2                          1                 1              1  \n",
       "3                          1                 1              1  \n",
       "4                          0                 0              1  "
      ]
     },
     "execution_count": 26,
     "metadata": {},
     "output_type": "execute_result"
    }
   ],
   "source": [
    "# we have less variation for  time_in_hospital column so we're considering \"mode\" to fill in the null data\n",
    "train_data = fill_mode(df=train_data, col_name='time_in_hospital')\n",
    "train_data.head()"
   ]
  },
  {
   "cell_type": "code",
   "execution_count": 27,
   "id": "9d2654ca-0dbc-4d8d-a033-3901adf06f3f",
   "metadata": {
    "colab": {
     "base_uri": "https://localhost:8080/"
    },
    "id": "9d2654ca-0dbc-4d8d-a033-3901adf06f3f",
    "outputId": "c02625c5-2ed6-417e-89e8-fd85b7b145dc"
   },
   "outputs": [
    {
     "data": {
      "text/plain": [
       "0"
      ]
     },
     "execution_count": 27,
     "metadata": {},
     "output_type": "execute_result"
    }
   ],
   "source": [
    "train_data['time_in_hospital'].isnull().sum()  # all the null value is being imputed"
   ]
  },
  {
   "cell_type": "code",
   "execution_count": 28,
   "id": "b4a9f69e-0887-4369-af83-c600e26d730b",
   "metadata": {
    "id": "b4a9f69e-0887-4369-af83-c600e26d730b"
   },
   "outputs": [],
   "source": [
    "# doing same for the test_data\n",
    "test_data = fill_mode(df=test_data, col_name='time_in_hospital')"
   ]
  },
  {
   "cell_type": "markdown",
   "id": "f103a10f-2b2e-4f8d-a730-4c99fb879d34",
   "metadata": {
    "id": "f103a10f-2b2e-4f8d-a730-4c99fb879d34"
   },
   "source": [
    "#### filling NaN values for \"num_lab_procedures\" with meaningful data"
   ]
  },
  {
   "cell_type": "code",
   "execution_count": 29,
   "id": "0ec38159-20b3-436a-9b5c-5dbdca787905",
   "metadata": {
    "colab": {
     "base_uri": "https://localhost:8080/"
    },
    "id": "0ec38159-20b3-436a-9b5c-5dbdca787905",
    "outputId": "1090f3da-72a8-4858-e82c-1dbd86854bfe"
   },
   "outputs": [
    {
     "data": {
      "text/plain": [
       "num_lab_procedures\n",
       "1.0      247\n",
       "44.0     207\n",
       "43.0     201\n",
       "45.0     193\n",
       "40.0     171\n",
       "        ... \n",
       "98.0       1\n",
       "109.0      1\n",
       "102.0      1\n",
       "113.0      1\n",
       "101.0      1\n",
       "Name: count, Length: 106, dtype: int64"
      ]
     },
     "execution_count": 29,
     "metadata": {},
     "output_type": "execute_result"
    }
   ],
   "source": [
    "train_data['num_lab_procedures'].value_counts()"
   ]
  },
  {
   "cell_type": "markdown",
   "id": "244a8b64-ab19-4bee-b471-dce9040fdfb7",
   "metadata": {
    "id": "244a8b64-ab19-4bee-b471-dce9040fdfb7"
   },
   "source": [
    "* for this we're considering the mean to impute the NaN values"
   ]
  },
  {
   "cell_type": "code",
   "execution_count": 30,
   "id": "7ae42180-1663-4cec-a3c6-c67c0ccf285f",
   "metadata": {
    "id": "7ae42180-1663-4cec-a3c6-c67c0ccf285f"
   },
   "outputs": [],
   "source": [
    "mean_value = train_data['num_lab_procedures'].mean()\n",
    "train_data['num_lab_procedures'].fillna(mean_value, inplace=True)"
   ]
  },
  {
   "cell_type": "code",
   "execution_count": 31,
   "id": "4e5e57c4-f07a-4c0d-9738-fab49a808df3",
   "metadata": {
    "id": "4e5e57c4-f07a-4c0d-9738-fab49a808df3"
   },
   "outputs": [],
   "source": [
    "mean_value = test_data['num_lab_procedures'].mean()\n",
    "test_data['num_lab_procedures'].fillna(mean_value, inplace=True)"
   ]
  },
  {
   "cell_type": "code",
   "execution_count": 32,
   "id": "372d1325-eb65-427b-ad88-f63885bbe47c",
   "metadata": {
    "colab": {
     "base_uri": "https://localhost:8080/"
    },
    "id": "372d1325-eb65-427b-ad88-f63885bbe47c",
    "outputId": "c0a35ed0-2af5-4f57-8c3b-eaf30c1f28ff"
   },
   "outputs": [
    {
     "data": {
      "text/plain": [
       "num_medications\n",
       "13.0    479\n",
       "14.0    472\n",
       "11.0    426\n",
       "10.0    425\n",
       "15.0    422\n",
       "       ... \n",
       "59.0      2\n",
       "58.0      1\n",
       "66.0      1\n",
       "61.0      1\n",
       "51.0      1\n",
       "Name: count, Length: 64, dtype: int64"
      ]
     },
     "execution_count": 32,
     "metadata": {},
     "output_type": "execute_result"
    }
   ],
   "source": [
    "train_data['num_medications'].value_counts()"
   ]
  },
  {
   "cell_type": "code",
   "execution_count": 33,
   "id": "9ef45c17-9438-4f77-80ad-28f184fc1f72",
   "metadata": {
    "id": "9ef45c17-9438-4f77-80ad-28f184fc1f72"
   },
   "outputs": [],
   "source": [
    "mean_value = train_data['num_medications'].mean()\n",
    "train_data['num_medications'].fillna(mean_value, inplace=True)"
   ]
  },
  {
   "cell_type": "code",
   "execution_count": 34,
   "id": "f8171354-3d4b-4d8f-a9ab-9aeab02f0ec9",
   "metadata": {
    "id": "f8171354-3d4b-4d8f-a9ab-9aeab02f0ec9"
   },
   "outputs": [],
   "source": [
    "mean_value = test_data['num_medications'].mean()\n",
    "test_data['num_medications'].fillna(mean_value, inplace=True)"
   ]
  },
  {
   "cell_type": "markdown",
   "id": "f2e27175-14b4-483d-a0fc-7b9f6259cd42",
   "metadata": {
    "id": "f2e27175-14b4-483d-a0fc-7b9f6259cd42"
   },
   "source": [
    "<h4>\n",
    "    As seen in below cell number_diagnoses , the value 9 holds more weightage so we'll consider mode for this feature to fill in the null data.</h4>"
   ]
  },
  {
   "cell_type": "code",
   "execution_count": 35,
   "id": "62be29f1-02a5-46d4-8445-ef5cf2bfdaa2",
   "metadata": {
    "colab": {
     "base_uri": "https://localhost:8080/"
    },
    "id": "62be29f1-02a5-46d4-8445-ef5cf2bfdaa2",
    "outputId": "fe27e02e-ac2a-4b6f-e657-2f0481ca1249"
   },
   "outputs": [
    {
     "data": {
      "text/plain": [
       "number_diagnoses\n",
       "9.0     3778\n",
       "5.0      852\n",
       "8.0      805\n",
       "7.0      800\n",
       "6.0      748\n",
       "4.0      429\n",
       "3.0      226\n",
       "2.0       69\n",
       "1.0       17\n",
       "16.0       5\n",
       "12.0       1\n",
       "15.0       1\n",
       "11.0       1\n",
       "Name: count, dtype: int64"
      ]
     },
     "execution_count": 35,
     "metadata": {},
     "output_type": "execute_result"
    }
   ],
   "source": [
    "train_data['number_diagnoses'].value_counts()"
   ]
  },
  {
   "cell_type": "code",
   "execution_count": 36,
   "id": "73ebe332-7806-4072-9c6c-49770acea22d",
   "metadata": {
    "id": "73ebe332-7806-4072-9c6c-49770acea22d"
   },
   "outputs": [],
   "source": [
    "train_data= fill_mode(df=train_data, col_name='number_diagnoses')"
   ]
  },
  {
   "cell_type": "code",
   "execution_count": 37,
   "id": "e6e68e47-c454-4e2e-852a-514aee6c4b5e",
   "metadata": {
    "id": "e6e68e47-c454-4e2e-852a-514aee6c4b5e"
   },
   "outputs": [],
   "source": [
    "test_data= fill_mode(df=test_data, col_name='number_diagnoses')"
   ]
  },
  {
   "cell_type": "markdown",
   "id": "1ba1d94f-cf11-44c7-a6d9-956c8909183a",
   "metadata": {
    "id": "1ba1d94f-cf11-44c7-a6d9-956c8909183a"
   },
   "source": [
    "<h4>\n",
    "    imputing <u>mean</u> for featuer num_procedures.\n",
    "</h4>"
   ]
  },
  {
   "cell_type": "code",
   "execution_count": 38,
   "id": "3cb2e028-c58f-49d9-845e-476edfcc7c64",
   "metadata": {
    "colab": {
     "base_uri": "https://localhost:8080/"
    },
    "id": "3cb2e028-c58f-49d9-845e-476edfcc7c64",
    "outputId": "c7b9458f-6d47-4a11-d01b-d2c839bd97c9"
   },
   "outputs": [
    {
     "data": {
      "text/plain": [
       "num_procedures\n",
       "0.0    3436\n",
       "1.0    1451\n",
       "2.0     911\n",
       "3.0     688\n",
       "6.0     373\n",
       "4.0     313\n",
       "5.0     231\n",
       "Name: count, dtype: int64"
      ]
     },
     "execution_count": 38,
     "metadata": {},
     "output_type": "execute_result"
    }
   ],
   "source": [
    "train_data['num_procedures'].value_counts()"
   ]
  },
  {
   "cell_type": "code",
   "execution_count": 39,
   "id": "1bcf6bf4-9dad-4d7a-90c3-94437d779ce1",
   "metadata": {
    "id": "1bcf6bf4-9dad-4d7a-90c3-94437d779ce1"
   },
   "outputs": [],
   "source": [
    "mean_value = train_data['num_procedures'].mean()\n",
    "train_data['num_procedures'].fillna(mean_value, inplace=True)"
   ]
  },
  {
   "cell_type": "code",
   "execution_count": 40,
   "id": "63300161-27b9-45c2-8fdd-618c8ef2d64d",
   "metadata": {
    "id": "63300161-27b9-45c2-8fdd-618c8ef2d64d"
   },
   "outputs": [],
   "source": [
    "mean_value = test_data['num_procedures'].mean()\n",
    "test_data['num_procedures'].fillna(mean_value, inplace=True)"
   ]
  },
  {
   "cell_type": "markdown",
   "id": "da90369a-8eaf-499e-aa8f-6a8e349773cf",
   "metadata": {
    "id": "da90369a-8eaf-499e-aa8f-6a8e349773cf"
   },
   "source": [
    "* checking for null values at last."
   ]
  },
  {
   "cell_type": "code",
   "execution_count": 41,
   "id": "e3295474-3e7a-4291-ab4d-f7e8026dc7b6",
   "metadata": {
    "colab": {
     "base_uri": "https://localhost:8080/"
    },
    "id": "e3295474-3e7a-4291-ab4d-f7e8026dc7b6",
    "outputId": "6852cd5d-4254-4586-ac62-04b5ca817622"
   },
   "outputs": [
    {
     "data": {
      "text/plain": [
       "time_in_hospital             0\n",
       "num_lab_procedures           0\n",
       "num_procedures               0\n",
       "num_medications              0\n",
       "number_diagnoses             0\n",
       "age_start_range              0\n",
       "age_end_range                0\n",
       "gender_encoded               0\n",
       "insulin_change_encoded       0\n",
       "diabetes_drug_1_encoded      0\n",
       "diabetes_drug_2_encoded      0\n",
       "medication_change_encoded    0\n",
       "followup_encoded             0\n",
       "opted_encoded                0\n",
       "dtype: int64"
      ]
     },
     "execution_count": 41,
     "metadata": {},
     "output_type": "execute_result"
    }
   ],
   "source": [
    "train_data.isnull().sum()"
   ]
  },
  {
   "cell_type": "markdown",
   "id": "7c42feb9-11f0-4e64-804f-4ce4b2abd9d6",
   "metadata": {
    "id": "7c42feb9-11f0-4e64-804f-4ce4b2abd9d6"
   },
   "source": [
    "<h4>\n",
    "we've 0 null value for all the feature.    \n",
    "</h4>"
   ]
  },
  {
   "cell_type": "code",
   "execution_count": 42,
   "id": "88417ca8-6323-433a-ab01-17b978538777",
   "metadata": {
    "colab": {
     "base_uri": "https://localhost:8080/"
    },
    "id": "88417ca8-6323-433a-ab01-17b978538777",
    "outputId": "bac97238-32f8-40e3-e200-c1eb7e208cae"
   },
   "outputs": [
    {
     "data": {
      "text/plain": [
       "patient_id                   0\n",
       "time_in_hospital             0\n",
       "num_lab_procedures           0\n",
       "num_procedures               0\n",
       "num_medications              0\n",
       "number_diagnoses             0\n",
       "age_start_range              0\n",
       "age_end_range                0\n",
       "gender_encoded               0\n",
       "insulin_change_encoded       0\n",
       "diabetes_drug_1_encoded      0\n",
       "diabetes_drug_2_encoded      0\n",
       "medication_change_encoded    0\n",
       "followup_encoded             0\n",
       "dtype: int64"
      ]
     },
     "execution_count": 42,
     "metadata": {},
     "output_type": "execute_result"
    }
   ],
   "source": [
    "test_data.isnull().sum()"
   ]
  },
  {
   "cell_type": "markdown",
   "id": "6c39e2d9-8aa7-4a81-a45a-6c2cc09f36b2",
   "metadata": {
    "id": "6c39e2d9-8aa7-4a81-a45a-6c2cc09f36b2"
   },
   "source": [
    "# Heatmap of correlation\n",
    "\n",
    "<h4>\n",
    "    Checking which feature has more correlation with target variable \"opted\".\n",
    "</h4>"
   ]
  },
  {
   "cell_type": "code",
   "execution_count": 43,
   "id": "c21db86e-c859-4da8-8945-a5f311522de1",
   "metadata": {
    "colab": {
     "base_uri": "https://localhost:8080/",
     "height": 763
    },
    "id": "c21db86e-c859-4da8-8945-a5f311522de1",
    "outputId": "bd7e64c2-ce7f-4907-b578-1e55ee66a791"
   },
   "outputs": [
    {
     "data": {
      "image/png": "[encoded data removed]",
      "text/plain": [
       "<Figure size 1000x800 with 2 Axes>"
      ]
     },
     "metadata": {},
     "output_type": "display_data"
    }
   ],
   "source": [
    "import seaborn as sns\n",
    "import matplotlib.pyplot as plt\n",
    "\n",
    "# Assuming 'opted_encoded' is the encoded target variable column in the correlation matrix\n",
    "corr_matrix = train_data.corr()\n",
    "\n",
    "# Check correlation with target variable ('opted_encoded')\n",
    "correlation_with_target = corr_matrix['opted_encoded'].sort_values(ascending=False)\n",
    "\n",
    "# Create a heatmap\n",
    "plt.figure(figsize=(10, 8))\n",
    "sns.heatmap(corr_matrix, annot=True, cmap='coolwarm', fmt='.2f')\n",
    "plt.title('Correlation Heatmap')\n",
    "plt.show()\n"
   ]
  },
  {
   "cell_type": "code",
   "execution_count": 44,
   "id": "d84fed39-1d22-4af4-90fc-d541b3090874",
   "metadata": {
    "colab": {
     "base_uri": "https://localhost:8080/"
    },
    "id": "d84fed39-1d22-4af4-90fc-d541b3090874",
    "outputId": "d0a39661-a443-4349-8725-5d4eabf89998"
   },
   "outputs": [
    {
     "name": "stdout",
     "output_type": "stream",
     "text": [
      "Correlation Scores for 'opted_encoded':\n",
      "time_in_hospital             0.086308\n",
      "num_lab_procedures           0.036026\n",
      "num_procedures              -0.012944\n",
      "num_medications              0.184567\n",
      "number_diagnoses             0.036687\n",
      "age_start_range             -0.027507\n",
      "age_end_range               -0.027507\n",
      "gender_encoded              -0.002727\n",
      "insulin_change_encoded       0.264072\n",
      "diabetes_drug_1_encoded      0.232215\n",
      "diabetes_drug_2_encoded      0.175369\n",
      "medication_change_encoded    0.494141\n",
      "followup_encoded             0.064342\n",
      "opted_encoded                1.000000\n",
      "Name: opted_encoded, dtype: float64\n"
     ]
    }
   ],
   "source": [
    "correlation_scores = train_data.corr()['opted_encoded']\n",
    "print(\"Correlation Scores for 'opted_encoded':\")\n",
    "print(correlation_scores)"
   ]
  },
  {
   "cell_type": "markdown",
   "id": "616bf66f-58f4-4082-a862-aec9b35c1c51",
   "metadata": {
    "id": "616bf66f-58f4-4082-a862-aec9b35c1c51"
   },
   "source": [
    "<h4> time_in_hospital feature has much more influence on the target variable \"opted\"</h4>"
   ]
  },
  {
   "cell_type": "code",
   "execution_count": 45,
   "id": "c5f01909-e99b-4709-b1c0-79dd31bf7c35",
   "metadata": {
    "colab": {
     "base_uri": "https://localhost:8080/",
     "height": 443
    },
    "id": "c5f01909-e99b-4709-b1c0-79dd31bf7c35",
    "outputId": "60f66153-0f30-42f9-b5f2-a175510182b9"
   },
   "outputs": [
    {
     "data": {
      "text/html": [
       "<div>\n",
       "<style scoped>\n",
       "    .dataframe tbody tr th:only-of-type {\n",
       "        vertical-align: middle;\n",
       "    }\n",
       "\n",
       "    .dataframe tbody tr th {\n",
       "        vertical-align: top;\n",
       "    }\n",
       "\n",
       "    .dataframe thead th {\n",
       "        text-align: right;\n",
       "    }\n",
       "</style>\n",
       "<table border=\"1\" class=\"dataframe\">\n",
       "  <thead>\n",
       "    <tr style=\"text-align: right;\">\n",
       "      <th></th>\n",
       "      <th>time_in_hospital</th>\n",
       "      <th>num_lab_procedures</th>\n",
       "      <th>num_procedures</th>\n",
       "      <th>num_medications</th>\n",
       "      <th>number_diagnoses</th>\n",
       "      <th>age_start_range</th>\n",
       "      <th>age_end_range</th>\n",
       "      <th>gender_encoded</th>\n",
       "      <th>insulin_change_encoded</th>\n",
       "      <th>diabetes_drug_1_encoded</th>\n",
       "      <th>diabetes_drug_2_encoded</th>\n",
       "      <th>medication_change_encoded</th>\n",
       "      <th>followup_encoded</th>\n",
       "      <th>opted_encoded</th>\n",
       "    </tr>\n",
       "  </thead>\n",
       "  <tbody>\n",
       "    <tr>\n",
       "      <th>0</th>\n",
       "      <td>8.0</td>\n",
       "      <td>53.0</td>\n",
       "      <td>3.000000</td>\n",
       "      <td>31.0</td>\n",
       "      <td>9.0</td>\n",
       "      <td>60</td>\n",
       "      <td>70</td>\n",
       "      <td>0</td>\n",
       "      <td>0</td>\n",
       "      <td>1</td>\n",
       "      <td>1</td>\n",
       "      <td>1</td>\n",
       "      <td>0</td>\n",
       "      <td>1</td>\n",
       "    </tr>\n",
       "    <tr>\n",
       "      <th>1</th>\n",
       "      <td>6.0</td>\n",
       "      <td>3.0</td>\n",
       "      <td>0.000000</td>\n",
       "      <td>8.0</td>\n",
       "      <td>7.0</td>\n",
       "      <td>20</td>\n",
       "      <td>30</td>\n",
       "      <td>1</td>\n",
       "      <td>1</td>\n",
       "      <td>1</td>\n",
       "      <td>1</td>\n",
       "      <td>0</td>\n",
       "      <td>0</td>\n",
       "      <td>0</td>\n",
       "    </tr>\n",
       "    <tr>\n",
       "      <th>2</th>\n",
       "      <td>3.0</td>\n",
       "      <td>28.0</td>\n",
       "      <td>1.000000</td>\n",
       "      <td>14.0</td>\n",
       "      <td>9.0</td>\n",
       "      <td>70</td>\n",
       "      <td>80</td>\n",
       "      <td>1</td>\n",
       "      <td>1</td>\n",
       "      <td>1</td>\n",
       "      <td>1</td>\n",
       "      <td>1</td>\n",
       "      <td>1</td>\n",
       "      <td>1</td>\n",
       "    </tr>\n",
       "    <tr>\n",
       "      <th>3</th>\n",
       "      <td>2.0</td>\n",
       "      <td>39.0</td>\n",
       "      <td>1.000000</td>\n",
       "      <td>10.0</td>\n",
       "      <td>9.0</td>\n",
       "      <td>60</td>\n",
       "      <td>70</td>\n",
       "      <td>1</td>\n",
       "      <td>0</td>\n",
       "      <td>1</td>\n",
       "      <td>1</td>\n",
       "      <td>1</td>\n",
       "      <td>1</td>\n",
       "      <td>1</td>\n",
       "    </tr>\n",
       "    <tr>\n",
       "      <th>4</th>\n",
       "      <td>1.0</td>\n",
       "      <td>2.0</td>\n",
       "      <td>1.000000</td>\n",
       "      <td>10.0</td>\n",
       "      <td>6.0</td>\n",
       "      <td>80</td>\n",
       "      <td>90</td>\n",
       "      <td>0</td>\n",
       "      <td>1</td>\n",
       "      <td>1</td>\n",
       "      <td>1</td>\n",
       "      <td>0</td>\n",
       "      <td>0</td>\n",
       "      <td>1</td>\n",
       "    </tr>\n",
       "    <tr>\n",
       "      <th>...</th>\n",
       "      <td>...</td>\n",
       "      <td>...</td>\n",
       "      <td>...</td>\n",
       "      <td>...</td>\n",
       "      <td>...</td>\n",
       "      <td>...</td>\n",
       "      <td>...</td>\n",
       "      <td>...</td>\n",
       "      <td>...</td>\n",
       "      <td>...</td>\n",
       "      <td>...</td>\n",
       "      <td>...</td>\n",
       "      <td>...</td>\n",
       "      <td>...</td>\n",
       "    </tr>\n",
       "    <tr>\n",
       "      <th>7995</th>\n",
       "      <td>5.0</td>\n",
       "      <td>44.0</td>\n",
       "      <td>3.000000</td>\n",
       "      <td>19.0</td>\n",
       "      <td>7.0</td>\n",
       "      <td>50</td>\n",
       "      <td>60</td>\n",
       "      <td>0</td>\n",
       "      <td>2</td>\n",
       "      <td>1</td>\n",
       "      <td>1</td>\n",
       "      <td>0</td>\n",
       "      <td>1</td>\n",
       "      <td>1</td>\n",
       "    </tr>\n",
       "    <tr>\n",
       "      <th>7996</th>\n",
       "      <td>3.0</td>\n",
       "      <td>35.0</td>\n",
       "      <td>0.000000</td>\n",
       "      <td>10.0</td>\n",
       "      <td>4.0</td>\n",
       "      <td>80</td>\n",
       "      <td>90</td>\n",
       "      <td>1</td>\n",
       "      <td>2</td>\n",
       "      <td>1</td>\n",
       "      <td>1</td>\n",
       "      <td>0</td>\n",
       "      <td>1</td>\n",
       "      <td>1</td>\n",
       "    </tr>\n",
       "    <tr>\n",
       "      <th>7997</th>\n",
       "      <td>8.0</td>\n",
       "      <td>47.0</td>\n",
       "      <td>0.000000</td>\n",
       "      <td>25.0</td>\n",
       "      <td>9.0</td>\n",
       "      <td>60</td>\n",
       "      <td>70</td>\n",
       "      <td>1</td>\n",
       "      <td>2</td>\n",
       "      <td>1</td>\n",
       "      <td>1</td>\n",
       "      <td>0</td>\n",
       "      <td>0</td>\n",
       "      <td>1</td>\n",
       "    </tr>\n",
       "    <tr>\n",
       "      <th>7998</th>\n",
       "      <td>11.0</td>\n",
       "      <td>45.0</td>\n",
       "      <td>2.000000</td>\n",
       "      <td>26.0</td>\n",
       "      <td>9.0</td>\n",
       "      <td>40</td>\n",
       "      <td>50</td>\n",
       "      <td>0</td>\n",
       "      <td>3</td>\n",
       "      <td>1</td>\n",
       "      <td>1</td>\n",
       "      <td>1</td>\n",
       "      <td>0</td>\n",
       "      <td>1</td>\n",
       "    </tr>\n",
       "    <tr>\n",
       "      <th>7999</th>\n",
       "      <td>2.0</td>\n",
       "      <td>25.0</td>\n",
       "      <td>1.348372</td>\n",
       "      <td>13.0</td>\n",
       "      <td>7.0</td>\n",
       "      <td>50</td>\n",
       "      <td>60</td>\n",
       "      <td>1</td>\n",
       "      <td>1</td>\n",
       "      <td>1</td>\n",
       "      <td>2</td>\n",
       "      <td>0</td>\n",
       "      <td>0</td>\n",
       "      <td>1</td>\n",
       "    </tr>\n",
       "  </tbody>\n",
       "</table>\n",
       "<p>8000 rows × 14 columns</p>\n",
       "</div>"
      ],
      "text/plain": [
       "      time_in_hospital  num_lab_procedures  num_procedures  num_medications  \\\n",
       "0                  8.0                53.0        3.000000             31.0   \n",
       "1                  6.0                 3.0        0.000000              8.0   \n",
       "2                  3.0                28.0        1.000000             14.0   \n",
       "3                  2.0                39.0        1.000000             10.0   \n",
       "4                  1.0                 2.0        1.000000             10.0   \n",
       "...                ...                 ...             ...              ...   \n",
       "7995               5.0                44.0        3.000000             19.0   \n",
       "7996               3.0                35.0        0.000000             10.0   \n",
       "7997               8.0                47.0        0.000000             25.0   \n",
       "7998              11.0                45.0        2.000000             26.0   \n",
       "7999               2.0                25.0        1.348372             13.0   \n",
       "\n",
       "      number_diagnoses  age_start_range  age_end_range  gender_encoded  \\\n",
       "0                  9.0               60             70               0   \n",
       "1                  7.0               20             30               1   \n",
       "2                  9.0               70             80               1   \n",
       "3                  9.0               60             70               1   \n",
       "4                  6.0               80             90               0   \n",
       "...                ...              ...            ...             ...   \n",
       "7995               7.0               50             60               0   \n",
       "7996               4.0               80             90               1   \n",
       "7997               9.0               60             70               1   \n",
       "7998               9.0               40             50               0   \n",
       "7999               7.0               50             60               1   \n",
       "\n",
       "      insulin_change_encoded  diabetes_drug_1_encoded  \\\n",
       "0                          0                        1   \n",
       "1                          1                        1   \n",
       "2                          1                        1   \n",
       "3                          0                        1   \n",
       "4                          1                        1   \n",
       "...                      ...                      ...   \n",
       "7995                       2                        1   \n",
       "7996                       2                        1   \n",
       "7997                       2                        1   \n",
       "7998                       3                        1   \n",
       "7999                       1                        1   \n",
       "\n",
       "      diabetes_drug_2_encoded  medication_change_encoded  followup_encoded  \\\n",
       "0                           1                          1                 0   \n",
       "1                           1                          0                 0   \n",
       "2                           1                          1                 1   \n",
       "3                           1                          1                 1   \n",
       "4                           1                          0                 0   \n",
       "...                       ...                        ...               ...   \n",
       "7995                        1                          0                 1   \n",
       "7996                        1                          0                 1   \n",
       "7997                        1                          0                 0   \n",
       "7998                        1                          1                 0   \n",
       "7999                        2                          0                 0   \n",
       "\n",
       "      opted_encoded  \n",
       "0                 1  \n",
       "1                 0  \n",
       "2                 1  \n",
       "3                 1  \n",
       "4                 1  \n",
       "...             ...  \n",
       "7995              1  \n",
       "7996              1  \n",
       "7997              1  \n",
       "7998              1  \n",
       "7999              1  \n",
       "\n",
       "[8000 rows x 14 columns]"
      ]
     },
     "execution_count": 45,
     "metadata": {},
     "output_type": "execute_result"
    }
   ],
   "source": [
    "train_data"
   ]
  },
  {
   "cell_type": "markdown",
   "id": "e4477b15-d3a4-4a2a-b811-464699bac6e2",
   "metadata": {
    "id": "e4477b15-d3a4-4a2a-b811-464699bac6e2"
   },
   "source": [
    "## Scaling numerical feature, in specific range."
   ]
  },
  {
   "cell_type": "code",
   "execution_count": 46,
   "id": "be003836-67c2-4465-abb4-ac2f01c5e411",
   "metadata": {
    "id": "be003836-67c2-4465-abb4-ac2f01c5e411"
   },
   "outputs": [],
   "source": [
    "from sklearn.preprocessing import MinMaxScaler\n",
    "\n",
    "def scale_and_drop(data):\n",
    "    # Specify the columns to be scaled and dropped\n",
    "    columns_to_scale_and_drop = ['number_diagnoses', 'num_lab_procedures', 'num_medications', 'age_start_range', \\\n",
    "                                'age_end_range', 'time_in_hospital']\n",
    "\n",
    "    # Create a MinMaxScaler\n",
    "    scaler = MinMaxScaler()\n",
    "\n",
    "    # Fit and transform the selected columns\n",
    "    data[columns_to_scale_and_drop] = scaler.fit_transform(data[columns_to_scale_and_drop])\n",
    "\n",
    "    # Drop the scaled columns\n",
    "    # data.drop(columns=columns_to_scale_and_drop, inplace=True)\n",
    "\n",
    "    return data\n",
    "\n",
    "# Assuming train_data and test_data are your DataFrames\n",
    "train_data = scale_and_drop(train_data)\n",
    "test_data = scale_and_drop(test_data)\n"
   ]
  },
  {
   "cell_type": "code",
   "execution_count": 47,
   "id": "43a94682-69a1-464a-bb24-c35c4afe8606",
   "metadata": {
    "colab": {
     "base_uri": "https://localhost:8080/",
     "height": 443
    },
    "id": "43a94682-69a1-464a-bb24-c35c4afe8606",
    "outputId": "816e09c7-6a95-451a-eee6-74651c4a3484"
   },
   "outputs": [
    {
     "data": {
      "text/html": [
       "<div>\n",
       "<style scoped>\n",
       "    .dataframe tbody tr th:only-of-type {\n",
       "        vertical-align: middle;\n",
       "    }\n",
       "\n",
       "    .dataframe tbody tr th {\n",
       "        vertical-align: top;\n",
       "    }\n",
       "\n",
       "    .dataframe thead th {\n",
       "        text-align: right;\n",
       "    }\n",
       "</style>\n",
       "<table border=\"1\" class=\"dataframe\">\n",
       "  <thead>\n",
       "    <tr style=\"text-align: right;\">\n",
       "      <th></th>\n",
       "      <th>time_in_hospital</th>\n",
       "      <th>num_lab_procedures</th>\n",
       "      <th>num_procedures</th>\n",
       "      <th>num_medications</th>\n",
       "      <th>number_diagnoses</th>\n",
       "      <th>age_start_range</th>\n",
       "      <th>age_end_range</th>\n",
       "      <th>gender_encoded</th>\n",
       "      <th>insulin_change_encoded</th>\n",
       "      <th>diabetes_drug_1_encoded</th>\n",
       "      <th>diabetes_drug_2_encoded</th>\n",
       "      <th>medication_change_encoded</th>\n",
       "      <th>followup_encoded</th>\n",
       "      <th>opted_encoded</th>\n",
       "    </tr>\n",
       "  </thead>\n",
       "  <tbody>\n",
       "    <tr>\n",
       "      <th>0</th>\n",
       "      <td>0.538462</td>\n",
       "      <td>0.464286</td>\n",
       "      <td>3.000000</td>\n",
       "      <td>0.454545</td>\n",
       "      <td>0.533333</td>\n",
       "      <td>0.666667</td>\n",
       "      <td>0.666667</td>\n",
       "      <td>0</td>\n",
       "      <td>0</td>\n",
       "      <td>1</td>\n",
       "      <td>1</td>\n",
       "      <td>1</td>\n",
       "      <td>0</td>\n",
       "      <td>1</td>\n",
       "    </tr>\n",
       "    <tr>\n",
       "      <th>1</th>\n",
       "      <td>0.384615</td>\n",
       "      <td>0.017857</td>\n",
       "      <td>0.000000</td>\n",
       "      <td>0.106061</td>\n",
       "      <td>0.400000</td>\n",
       "      <td>0.222222</td>\n",
       "      <td>0.222222</td>\n",
       "      <td>1</td>\n",
       "      <td>1</td>\n",
       "      <td>1</td>\n",
       "      <td>1</td>\n",
       "      <td>0</td>\n",
       "      <td>0</td>\n",
       "      <td>0</td>\n",
       "    </tr>\n",
       "    <tr>\n",
       "      <th>2</th>\n",
       "      <td>0.153846</td>\n",
       "      <td>0.241071</td>\n",
       "      <td>1.000000</td>\n",
       "      <td>0.196970</td>\n",
       "      <td>0.533333</td>\n",
       "      <td>0.777778</td>\n",
       "      <td>0.777778</td>\n",
       "      <td>1</td>\n",
       "      <td>1</td>\n",
       "      <td>1</td>\n",
       "      <td>1</td>\n",
       "      <td>1</td>\n",
       "      <td>1</td>\n",
       "      <td>1</td>\n",
       "    </tr>\n",
       "    <tr>\n",
       "      <th>3</th>\n",
       "      <td>0.076923</td>\n",
       "      <td>0.339286</td>\n",
       "      <td>1.000000</td>\n",
       "      <td>0.136364</td>\n",
       "      <td>0.533333</td>\n",
       "      <td>0.666667</td>\n",
       "      <td>0.666667</td>\n",
       "      <td>1</td>\n",
       "      <td>0</td>\n",
       "      <td>1</td>\n",
       "      <td>1</td>\n",
       "      <td>1</td>\n",
       "      <td>1</td>\n",
       "      <td>1</td>\n",
       "    </tr>\n",
       "    <tr>\n",
       "      <th>4</th>\n",
       "      <td>0.000000</td>\n",
       "      <td>0.008929</td>\n",
       "      <td>1.000000</td>\n",
       "      <td>0.136364</td>\n",
       "      <td>0.333333</td>\n",
       "      <td>0.888889</td>\n",
       "      <td>0.888889</td>\n",
       "      <td>0</td>\n",
       "      <td>1</td>\n",
       "      <td>1</td>\n",
       "      <td>1</td>\n",
       "      <td>0</td>\n",
       "      <td>0</td>\n",
       "      <td>1</td>\n",
       "    </tr>\n",
       "    <tr>\n",
       "      <th>...</th>\n",
       "      <td>...</td>\n",
       "      <td>...</td>\n",
       "      <td>...</td>\n",
       "      <td>...</td>\n",
       "      <td>...</td>\n",
       "      <td>...</td>\n",
       "      <td>...</td>\n",
       "      <td>...</td>\n",
       "      <td>...</td>\n",
       "      <td>...</td>\n",
       "      <td>...</td>\n",
       "      <td>...</td>\n",
       "      <td>...</td>\n",
       "      <td>...</td>\n",
       "    </tr>\n",
       "    <tr>\n",
       "      <th>7995</th>\n",
       "      <td>0.307692</td>\n",
       "      <td>0.383929</td>\n",
       "      <td>3.000000</td>\n",
       "      <td>0.272727</td>\n",
       "      <td>0.400000</td>\n",
       "      <td>0.555556</td>\n",
       "      <td>0.555556</td>\n",
       "      <td>0</td>\n",
       "      <td>2</td>\n",
       "      <td>1</td>\n",
       "      <td>1</td>\n",
       "      <td>0</td>\n",
       "      <td>1</td>\n",
       "      <td>1</td>\n",
       "    </tr>\n",
       "    <tr>\n",
       "      <th>7996</th>\n",
       "      <td>0.153846</td>\n",
       "      <td>0.303571</td>\n",
       "      <td>0.000000</td>\n",
       "      <td>0.136364</td>\n",
       "      <td>0.200000</td>\n",
       "      <td>0.888889</td>\n",
       "      <td>0.888889</td>\n",
       "      <td>1</td>\n",
       "      <td>2</td>\n",
       "      <td>1</td>\n",
       "      <td>1</td>\n",
       "      <td>0</td>\n",
       "      <td>1</td>\n",
       "      <td>1</td>\n",
       "    </tr>\n",
       "    <tr>\n",
       "      <th>7997</th>\n",
       "      <td>0.538462</td>\n",
       "      <td>0.410714</td>\n",
       "      <td>0.000000</td>\n",
       "      <td>0.363636</td>\n",
       "      <td>0.533333</td>\n",
       "      <td>0.666667</td>\n",
       "      <td>0.666667</td>\n",
       "      <td>1</td>\n",
       "      <td>2</td>\n",
       "      <td>1</td>\n",
       "      <td>1</td>\n",
       "      <td>0</td>\n",
       "      <td>0</td>\n",
       "      <td>1</td>\n",
       "    </tr>\n",
       "    <tr>\n",
       "      <th>7998</th>\n",
       "      <td>0.769231</td>\n",
       "      <td>0.392857</td>\n",
       "      <td>2.000000</td>\n",
       "      <td>0.378788</td>\n",
       "      <td>0.533333</td>\n",
       "      <td>0.444444</td>\n",
       "      <td>0.444444</td>\n",
       "      <td>0</td>\n",
       "      <td>3</td>\n",
       "      <td>1</td>\n",
       "      <td>1</td>\n",
       "      <td>1</td>\n",
       "      <td>0</td>\n",
       "      <td>1</td>\n",
       "    </tr>\n",
       "    <tr>\n",
       "      <th>7999</th>\n",
       "      <td>0.076923</td>\n",
       "      <td>0.214286</td>\n",
       "      <td>1.348372</td>\n",
       "      <td>0.181818</td>\n",
       "      <td>0.400000</td>\n",
       "      <td>0.555556</td>\n",
       "      <td>0.555556</td>\n",
       "      <td>1</td>\n",
       "      <td>1</td>\n",
       "      <td>1</td>\n",
       "      <td>2</td>\n",
       "      <td>0</td>\n",
       "      <td>0</td>\n",
       "      <td>1</td>\n",
       "    </tr>\n",
       "  </tbody>\n",
       "</table>\n",
       "<p>8000 rows × 14 columns</p>\n",
       "</div>"
      ],
      "text/plain": [
       "      time_in_hospital  num_lab_procedures  num_procedures  num_medications  \\\n",
       "0             0.538462            0.464286        3.000000         0.454545   \n",
       "1             0.384615            0.017857        0.000000         0.106061   \n",
       "2             0.153846            0.241071        1.000000         0.196970   \n",
       "3             0.076923            0.339286        1.000000         0.136364   \n",
       "4             0.000000            0.008929        1.000000         0.136364   \n",
       "...                ...                 ...             ...              ...   \n",
       "7995          0.307692            0.383929        3.000000         0.272727   \n",
       "7996          0.153846            0.303571        0.000000         0.136364   \n",
       "7997          0.538462            0.410714        0.000000         0.363636   \n",
       "7998          0.769231            0.392857        2.000000         0.378788   \n",
       "7999          0.076923            0.214286        1.348372         0.181818   \n",
       "\n",
       "      number_diagnoses  age_start_range  age_end_range  gender_encoded  \\\n",
       "0             0.533333         0.666667       0.666667               0   \n",
       "1             0.400000         0.222222       0.222222               1   \n",
       "2             0.533333         0.777778       0.777778               1   \n",
       "3             0.533333         0.666667       0.666667               1   \n",
       "4             0.333333         0.888889       0.888889               0   \n",
       "...                ...              ...            ...             ...   \n",
       "7995          0.400000         0.555556       0.555556               0   \n",
       "7996          0.200000         0.888889       0.888889               1   \n",
       "7997          0.533333         0.666667       0.666667               1   \n",
       "7998          0.533333         0.444444       0.444444               0   \n",
       "7999          0.400000         0.555556       0.555556               1   \n",
       "\n",
       "      insulin_change_encoded  diabetes_drug_1_encoded  \\\n",
       "0                          0                        1   \n",
       "1                          1                        1   \n",
       "2                          1                        1   \n",
       "3                          0                        1   \n",
       "4                          1                        1   \n",
       "...                      ...                      ...   \n",
       "7995                       2                        1   \n",
       "7996                       2                        1   \n",
       "7997                       2                        1   \n",
       "7998                       3                        1   \n",
       "7999                       1                        1   \n",
       "\n",
       "      diabetes_drug_2_encoded  medication_change_encoded  followup_encoded  \\\n",
       "0                           1                          1                 0   \n",
       "1                           1                          0                 0   \n",
       "2                           1                          1                 1   \n",
       "3                           1                          1                 1   \n",
       "4                           1                          0                 0   \n",
       "...                       ...                        ...               ...   \n",
       "7995                        1                          0                 1   \n",
       "7996                        1                          0                 1   \n",
       "7997                        1                          0                 0   \n",
       "7998                        1                          1                 0   \n",
       "7999                        2                          0                 0   \n",
       "\n",
       "      opted_encoded  \n",
       "0                 1  \n",
       "1                 0  \n",
       "2                 1  \n",
       "3                 1  \n",
       "4                 1  \n",
       "...             ...  \n",
       "7995              1  \n",
       "7996              1  \n",
       "7997              1  \n",
       "7998              1  \n",
       "7999              1  \n",
       "\n",
       "[8000 rows x 14 columns]"
      ]
     },
     "execution_count": 47,
     "metadata": {},
     "output_type": "execute_result"
    }
   ],
   "source": [
    "train_data"
   ]
  },
  {
   "cell_type": "markdown",
   "id": "f8451c46-5daa-4e2e-8c9e-0d301f9f0984",
   "metadata": {},
   "source": [
    "# Model Training"
   ]
  },
  {
   "cell_type": "code",
   "execution_count": 48,
   "id": "3b6683cc-78c4-455d-948c-0a04132008db",
   "metadata": {
    "id": "3b6683cc-78c4-455d-948c-0a04132008db"
   },
   "outputs": [],
   "source": [
    "X = train_data.drop(['opted_encoded'], axis=1)"
   ]
  },
  {
   "cell_type": "code",
   "execution_count": 49,
   "id": "f61b4607-9b3e-45da-a967-bbdb562c7936",
   "metadata": {
    "id": "f61b4607-9b3e-45da-a967-bbdb562c7936"
   },
   "outputs": [],
   "source": [
    "y = train_data['opted_encoded']"
   ]
  },
  {
   "cell_type": "code",
   "execution_count": 50,
   "id": "9e72cf81-55a9-459d-9b7f-42142ceaec99",
   "metadata": {
    "id": "9e72cf81-55a9-459d-9b7f-42142ceaec99"
   },
   "outputs": [],
   "source": [
    "X_train, X_val, y_train, y_val = train_test_split(X, y, test_size=0.2, random_state=42)\n",
    "\n",
    "\n",
    "rf_model = RandomForestClassifier(n_estimators=100, random_state=42)\n",
    "rf_model.fit(X_train, y_train)\n",
    "\n",
    "val_predictions = rf_model.predict(X_val)"
   ]
  },
  {
   "cell_type": "code",
   "execution_count": 51,
   "id": "8d5bb572-79ab-403e-8ffe-31023ee4b2d2",
   "metadata": {
    "colab": {
     "base_uri": "https://localhost:8080/"
    },
    "id": "8d5bb572-79ab-403e-8ffe-31023ee4b2d2",
    "outputId": "50c921a3-3bcb-4ab2-f71f-dd2a0e1819e2"
   },
   "outputs": [
    {
     "name": "stdout",
     "output_type": "stream",
     "text": [
      "Accuracy on validation set: 0.9175\n"
     ]
    }
   ],
   "source": [
    "# Calculate accuracy\n",
    "accuracy = accuracy_score(y_val, val_predictions)\n",
    "print(f\"Accuracy on validation set: {accuracy}\")"
   ]
  },
  {
   "cell_type": "markdown",
   "id": "ac966f55-afa3-4af6-bfde-8e62a0558865",
   "metadata": {},
   "source": [
    "# Accuracy achived 91.75 using Random forest."
   ]
  },
  {
   "cell_type": "code",
   "execution_count": 52,
   "id": "5c971768-eda2-4de0-a5f3-f49101172e97",
   "metadata": {
    "colab": {
     "base_uri": "https://localhost:8080/"
    },
    "id": "5c971768-eda2-4de0-a5f3-f49101172e97",
    "outputId": "7a31fdaf-67f7-47b4-d8f4-9a9f2d20a6af"
   },
   "outputs": [
    {
     "data": {
      "text/plain": [
       "array([1, 1, 1, ..., 0, 1, 1])"
      ]
     },
     "execution_count": 52,
     "metadata": {},
     "output_type": "execute_result"
    }
   ],
   "source": [
    "test_predictions = rf_model.predict(test_data.drop(columns=['patient_id'], axis=1))\n",
    "test_predictions"
   ]
  },
  {
   "cell_type": "code",
   "execution_count": 53,
   "id": "0320feae-19aa-4908-a7d7-d88fabe0e866",
   "metadata": {
    "id": "0320feae-19aa-4908-a7d7-d88fabe0e866"
   },
   "outputs": [],
   "source": [
    "submission_df = pd.DataFrame({'id': test_data['patient_id'], 'opted_prediction': test_predictions})"
   ]
  },
  {
   "cell_type": "code",
   "execution_count": 54,
   "id": "faddff77-a95d-4d10-864b-41e11a2c4042",
   "metadata": {
    "colab": {
     "base_uri": "https://localhost:8080/",
     "height": 206
    },
    "id": "faddff77-a95d-4d10-864b-41e11a2c4042",
    "outputId": "822ea84b-e7c1-4ca9-e21a-fe84d84c0d89"
   },
   "outputs": [
    {
     "data": {
      "text/html": [
       "<div>\n",
       "<style scoped>\n",
       "    .dataframe tbody tr th:only-of-type {\n",
       "        vertical-align: middle;\n",
       "    }\n",
       "\n",
       "    .dataframe tbody tr th {\n",
       "        vertical-align: top;\n",
       "    }\n",
       "\n",
       "    .dataframe thead th {\n",
       "        text-align: right;\n",
       "    }\n",
       "</style>\n",
       "<table border=\"1\" class=\"dataframe\">\n",
       "  <thead>\n",
       "    <tr style=\"text-align: right;\">\n",
       "      <th></th>\n",
       "      <th>id</th>\n",
       "      <th>opted_prediction</th>\n",
       "    </tr>\n",
       "  </thead>\n",
       "  <tbody>\n",
       "    <tr>\n",
       "      <th>0</th>\n",
       "      <td>111023406</td>\n",
       "      <td>1</td>\n",
       "    </tr>\n",
       "    <tr>\n",
       "      <th>1</th>\n",
       "      <td>90160929</td>\n",
       "      <td>1</td>\n",
       "    </tr>\n",
       "    <tr>\n",
       "      <th>2</th>\n",
       "      <td>23948163</td>\n",
       "      <td>1</td>\n",
       "    </tr>\n",
       "    <tr>\n",
       "      <th>3</th>\n",
       "      <td>15767055</td>\n",
       "      <td>0</td>\n",
       "    </tr>\n",
       "    <tr>\n",
       "      <th>4</th>\n",
       "      <td>23483583</td>\n",
       "      <td>1</td>\n",
       "    </tr>\n",
       "  </tbody>\n",
       "</table>\n",
       "</div>"
      ],
      "text/plain": [
       "          id  opted_prediction\n",
       "0  111023406                 1\n",
       "1   90160929                 1\n",
       "2   23948163                 1\n",
       "3   15767055                 0\n",
       "4   23483583                 1"
      ]
     },
     "execution_count": 54,
     "metadata": {},
     "output_type": "execute_result"
    }
   ],
   "source": [
    "submission_df.head()"
   ]
  },
  {
   "cell_type": "code",
   "execution_count": 56,
   "id": "1177e042-321b-4a29-9901-6f980d554d77",
   "metadata": {
    "id": "1177e042-321b-4a29-9901-6f980d554d77"
   },
   "outputs": [],
   "source": [
    "submission_df.to_csv('submission.csv', index=False)"
   ]
  },
  {
   "cell_type": "markdown",
   "id": "2afaa74c-c09f-4a1a-9e45-5ab321461ad3",
   "metadata": {},
   "source": [
    "# Training Deep Learning Model"
   ]
  },
  {
   "cell_type": "code",
   "execution_count": 209,
   "id": "bfd02206-1c89-4e63-8160-d3e088e4d513",
   "metadata": {
    "id": "bfd02206-1c89-4e63-8160-d3e088e4d513"
   },
   "outputs": [],
   "source": [
    "import tensorflow as tf\n",
    "from tensorflow.keras.models import Sequential\n",
    "from tensorflow.keras.layers import Dense"
   ]
  },
  {
   "cell_type": "code",
   "execution_count": 210,
   "id": "f64afe29-48bb-4783-a339-210bfac222ed",
   "metadata": {
    "colab": {
     "base_uri": "https://localhost:8080/"
    },
    "id": "f64afe29-48bb-4783-a339-210bfac222ed",
    "outputId": "5722c25a-d710-42bf-d2cd-5cde9bc223a9"
   },
   "outputs": [
    {
     "name": "stdout",
     "output_type": "stream",
     "text": [
      "Epoch 1/50\n",
      "200/200 [==============================] - 3s 8ms/step - loss: 0.3725 - accuracy: 0.8014 - val_loss: 0.2565 - val_accuracy: 0.8594\n",
      "Epoch 2/50\n",
      "200/200 [==============================] - 2s 9ms/step - loss: 0.2316 - accuracy: 0.8888 - val_loss: 0.1985 - val_accuracy: 0.9062\n",
      "Epoch 3/50\n",
      "200/200 [==============================] - 2s 8ms/step - loss: 0.1943 - accuracy: 0.9131 - val_loss: 0.1815 - val_accuracy: 0.9269\n",
      "Epoch 4/50\n",
      "200/200 [==============================] - 1s 7ms/step - loss: 0.1836 - accuracy: 0.9167 - val_loss: 0.1730 - val_accuracy: 0.9281\n",
      "Epoch 5/50\n",
      "200/200 [==============================] - 1s 6ms/step - loss: 0.1765 - accuracy: 0.9192 - val_loss: 0.1643 - val_accuracy: 0.9281\n",
      "Epoch 6/50\n",
      "200/200 [==============================] - 1s 6ms/step - loss: 0.1748 - accuracy: 0.9206 - val_loss: 0.1624 - val_accuracy: 0.9281\n",
      "Epoch 7/50\n",
      "200/200 [==============================] - 1s 5ms/step - loss: 0.1749 - accuracy: 0.9186 - val_loss: 0.1610 - val_accuracy: 0.9287\n",
      "Epoch 8/50\n",
      "200/200 [==============================] - 1s 6ms/step - loss: 0.1730 - accuracy: 0.9187 - val_loss: 0.1660 - val_accuracy: 0.9244\n",
      "Epoch 9/50\n",
      "200/200 [==============================] - 1s 4ms/step - loss: 0.1717 - accuracy: 0.9186 - val_loss: 0.1636 - val_accuracy: 0.9250\n",
      "Epoch 10/50\n",
      "200/200 [==============================] - 1s 3ms/step - loss: 0.1731 - accuracy: 0.9181 - val_loss: 0.1614 - val_accuracy: 0.9287\n",
      "Epoch 11/50\n",
      "200/200 [==============================] - 1s 4ms/step - loss: 0.1713 - accuracy: 0.9212 - val_loss: 0.1617 - val_accuracy: 0.9262\n",
      "Epoch 12/50\n",
      "200/200 [==============================] - 1s 3ms/step - loss: 0.1699 - accuracy: 0.9216 - val_loss: 0.1624 - val_accuracy: 0.9244\n",
      "Epoch 13/50\n",
      "200/200 [==============================] - 1s 3ms/step - loss: 0.1712 - accuracy: 0.9191 - val_loss: 0.1604 - val_accuracy: 0.9269\n",
      "Epoch 14/50\n",
      "200/200 [==============================] - 1s 3ms/step - loss: 0.1701 - accuracy: 0.9187 - val_loss: 0.1610 - val_accuracy: 0.9262\n",
      "Epoch 15/50\n",
      "200/200 [==============================] - 1s 4ms/step - loss: 0.1706 - accuracy: 0.9212 - val_loss: 0.1613 - val_accuracy: 0.9281\n",
      "Epoch 16/50\n",
      "200/200 [==============================] - 1s 4ms/step - loss: 0.1690 - accuracy: 0.9197 - val_loss: 0.1611 - val_accuracy: 0.9281\n",
      "Epoch 17/50\n",
      "200/200 [==============================] - 1s 4ms/step - loss: 0.1702 - accuracy: 0.9195 - val_loss: 0.1617 - val_accuracy: 0.9281\n",
      "Epoch 18/50\n",
      "200/200 [==============================] - 1s 3ms/step - loss: 0.1692 - accuracy: 0.9205 - val_loss: 0.1605 - val_accuracy: 0.9287\n",
      "Epoch 19/50\n",
      "200/200 [==============================] - 1s 3ms/step - loss: 0.1690 - accuracy: 0.9208 - val_loss: 0.1594 - val_accuracy: 0.9287\n",
      "Epoch 20/50\n",
      "200/200 [==============================] - 1s 3ms/step - loss: 0.1683 - accuracy: 0.9214 - val_loss: 0.1726 - val_accuracy: 0.9162\n",
      "Epoch 21/50\n",
      "200/200 [==============================] - 1s 3ms/step - loss: 0.1697 - accuracy: 0.9197 - val_loss: 0.1591 - val_accuracy: 0.9281\n",
      "Epoch 22/50\n",
      "200/200 [==============================] - 1s 3ms/step - loss: 0.1692 - accuracy: 0.9212 - val_loss: 0.1610 - val_accuracy: 0.9250\n",
      "Epoch 23/50\n",
      "200/200 [==============================] - 1s 3ms/step - loss: 0.1687 - accuracy: 0.9195 - val_loss: 0.1602 - val_accuracy: 0.9287\n",
      "Epoch 24/50\n",
      "200/200 [==============================] - 1s 3ms/step - loss: 0.1679 - accuracy: 0.9211 - val_loss: 0.1610 - val_accuracy: 0.9287\n",
      "Epoch 25/50\n",
      "200/200 [==============================] - 1s 3ms/step - loss: 0.1677 - accuracy: 0.9206 - val_loss: 0.1706 - val_accuracy: 0.9187\n",
      "Epoch 26/50\n",
      "200/200 [==============================] - 1s 3ms/step - loss: 0.1675 - accuracy: 0.9211 - val_loss: 0.1592 - val_accuracy: 0.9287\n",
      "Epoch 27/50\n",
      "200/200 [==============================] - 1s 3ms/step - loss: 0.1683 - accuracy: 0.9206 - val_loss: 0.1631 - val_accuracy: 0.9244\n",
      "Epoch 28/50\n",
      "200/200 [==============================] - 1s 3ms/step - loss: 0.1683 - accuracy: 0.9212 - val_loss: 0.1593 - val_accuracy: 0.9262\n",
      "Epoch 29/50\n",
      "200/200 [==============================] - 1s 3ms/step - loss: 0.1680 - accuracy: 0.9212 - val_loss: 0.1604 - val_accuracy: 0.9281\n",
      "Epoch 30/50\n",
      "200/200 [==============================] - 1s 3ms/step - loss: 0.1677 - accuracy: 0.9212 - val_loss: 0.1603 - val_accuracy: 0.9275\n",
      "Epoch 31/50\n",
      "200/200 [==============================] - 1s 3ms/step - loss: 0.1671 - accuracy: 0.9222 - val_loss: 0.1658 - val_accuracy: 0.9187\n",
      "Epoch 32/50\n",
      "200/200 [==============================] - 1s 3ms/step - loss: 0.1672 - accuracy: 0.9202 - val_loss: 0.1606 - val_accuracy: 0.9269\n",
      "Epoch 33/50\n",
      "200/200 [==============================] - 1s 4ms/step - loss: 0.1670 - accuracy: 0.9220 - val_loss: 0.1604 - val_accuracy: 0.9269\n",
      "Epoch 34/50\n",
      "200/200 [==============================] - 1s 5ms/step - loss: 0.1673 - accuracy: 0.9200 - val_loss: 0.1616 - val_accuracy: 0.9281\n",
      "Epoch 35/50\n",
      "200/200 [==============================] - 1s 4ms/step - loss: 0.1676 - accuracy: 0.9205 - val_loss: 0.1602 - val_accuracy: 0.9281\n",
      "Epoch 36/50\n",
      "200/200 [==============================] - 1s 3ms/step - loss: 0.1667 - accuracy: 0.9209 - val_loss: 0.1595 - val_accuracy: 0.9269\n",
      "Epoch 37/50\n",
      "200/200 [==============================] - 1s 3ms/step - loss: 0.1673 - accuracy: 0.9217 - val_loss: 0.1756 - val_accuracy: 0.9150\n",
      "Epoch 38/50\n",
      "200/200 [==============================] - 1s 3ms/step - loss: 0.1663 - accuracy: 0.9206 - val_loss: 0.1595 - val_accuracy: 0.9281\n",
      "Epoch 39/50\n",
      "200/200 [==============================] - 1s 3ms/step - loss: 0.1657 - accuracy: 0.9208 - val_loss: 0.1621 - val_accuracy: 0.9244\n",
      "Epoch 40/50\n",
      "200/200 [==============================] - 1s 3ms/step - loss: 0.1660 - accuracy: 0.9214 - val_loss: 0.1634 - val_accuracy: 0.9225\n",
      "Epoch 41/50\n",
      "200/200 [==============================] - 1s 3ms/step - loss: 0.1660 - accuracy: 0.9219 - val_loss: 0.1682 - val_accuracy: 0.9194\n",
      "Epoch 42/50\n",
      "200/200 [==============================] - 1s 3ms/step - loss: 0.1663 - accuracy: 0.9223 - val_loss: 0.1599 - val_accuracy: 0.9256\n",
      "Epoch 43/50\n",
      "200/200 [==============================] - 1s 3ms/step - loss: 0.1655 - accuracy: 0.9214 - val_loss: 0.1617 - val_accuracy: 0.9212\n",
      "Epoch 44/50\n",
      "200/200 [==============================] - 1s 3ms/step - loss: 0.1652 - accuracy: 0.9216 - val_loss: 0.1657 - val_accuracy: 0.9175\n",
      "Epoch 45/50\n",
      "200/200 [==============================] - 1s 3ms/step - loss: 0.1652 - accuracy: 0.9214 - val_loss: 0.1616 - val_accuracy: 0.9281\n",
      "Epoch 46/50\n",
      "200/200 [==============================] - 1s 3ms/step - loss: 0.1667 - accuracy: 0.9216 - val_loss: 0.1615 - val_accuracy: 0.9237\n",
      "Epoch 47/50\n",
      "200/200 [==============================] - 1s 3ms/step - loss: 0.1641 - accuracy: 0.9220 - val_loss: 0.1623 - val_accuracy: 0.9262\n",
      "Epoch 48/50\n",
      "200/200 [==============================] - 1s 3ms/step - loss: 0.1665 - accuracy: 0.9214 - val_loss: 0.1609 - val_accuracy: 0.9275\n",
      "Epoch 49/50\n",
      "200/200 [==============================] - 1s 3ms/step - loss: 0.1644 - accuracy: 0.9222 - val_loss: 0.1593 - val_accuracy: 0.9269\n",
      "Epoch 50/50\n",
      "200/200 [==============================] - 1s 3ms/step - loss: 0.1648 - accuracy: 0.9214 - val_loss: 0.1614 - val_accuracy: 0.9281\n",
      "50/50 [==============================] - 0s 2ms/step - loss: 0.1614 - accuracy: 0.9281\n",
      "Test Loss: 0.16137973964214325, Test Accuracy: 0.9281250238418579\n"
     ]
    }
   ],
   "source": [
    "X = train_data.iloc[:, :-1].values\n",
    "y = train_data.iloc[:, -1].values\n",
    "\n",
    "X_train, X_test, y_train, y_test = train_test_split(X, y, test_size=0.2, random_state=42)\n",
    "\n",
    "model = Sequential()\n",
    "model.add(Dense(64, input_dim=X_train.shape[1], activation='relu'))\n",
    "model.add(Dense(32, activation='relu'))\n",
    "model.add(Dense(1, activation='sigmoid'))\n",
    "\n",
    "model.compile(optimizer='adam', loss='binary_crossentropy', metrics=['accuracy'])\n",
    "\n",
    "# model training\n",
    "history = model.fit(X_train, y_train, epochs=50, batch_size=32, validation_data=(X_test, y_test))\n",
    "\n",
    "loss, accuracy = model.evaluate(X_test, y_test)\n",
    "print(f'Test Loss: {loss}, Test Accuracy: {accuracy}')"
   ]
  },
  {
   "cell_type": "markdown",
   "id": "b7b958a6-b5b8-4a45-ae13-aa1f4fc79777",
   "metadata": {},
   "source": [
    "# Accuracy archived 92.81 using Deep Learning"
   ]
  },
  {
   "cell_type": "markdown",
   "id": "e0e62c12-b9b4-477d-b78f-b84983be849d",
   "metadata": {},
   "source": [
    "### Plotting training and validation Accuracy & Loss"
   ]
  },
  {
   "cell_type": "code",
   "execution_count": 211,
   "id": "dGZ3SDyZIvLP",
   "metadata": {
    "colab": {
     "base_uri": "https://localhost:8080/",
     "height": 423
    },
    "id": "dGZ3SDyZIvLP",
    "outputId": "8a9e659d-1106-40b1-b0e5-43867a0fcde7"
   },
   "outputs": [
    {
     "data": {
      "image/png": "[encoded data removed]",
      "text/plain": [
       "<Figure size 1200x600 with 2 Axes>"
      ]
     },
     "metadata": {},
     "output_type": "display_data"
    }
   ],
   "source": [
    "import matplotlib.pyplot as plt\n",
    "\n",
    "\n",
    "plt.figure(figsize=(12, 6))\n",
    "\n",
    "plt.subplot(1, 2, 1)\n",
    "plt.plot(history.history['accuracy'])\n",
    "plt.plot(history.history['val_accuracy'])\n",
    "plt.title('Model Accuracy')\n",
    "plt.xlabel('Epoch')\n",
    "plt.ylabel('Accuracy')\n",
    "plt.legend(['Train', 'Validation'], loc='upper left')\n",
    "\n",
    "plt.subplot(1, 2, 2)\n",
    "plt.plot(history.history['loss'])\n",
    "plt.plot(history.history['val_loss'])\n",
    "plt.title('Model Loss')\n",
    "plt.xlabel('Epoch')\n",
    "plt.ylabel('Loss')\n",
    "plt.legend(['Train', 'Validation'], loc='upper left')\n",
    "\n",
    "plt.tight_layout()\n",
    "plt.show()\n"
   ]
  },
  {
   "cell_type": "code",
   "execution_count": 212,
   "id": "gSGrRf9VKGd4",
   "metadata": {
    "colab": {
     "base_uri": "https://localhost:8080/"
    },
    "id": "gSGrRf9VKGd4",
    "outputId": "ed51ee95-8705-4b71-a45d-fa88c7cb583c"
   },
   "outputs": [
    {
     "name": "stdout",
     "output_type": "stream",
     "text": [
      "63/63 [==============================] - 0s 1ms/step\n"
     ]
    }
   ],
   "source": [
    "predictions=model.predict(test_data.drop(columns=['patient_id'], axis=1))"
   ]
  },
  {
   "cell_type": "code",
   "execution_count": 215,
   "id": "cJQzZt0dKOAA",
   "metadata": {
    "colab": {
     "base_uri": "https://localhost:8080/"
    },
    "id": "cJQzZt0dKOAA",
    "outputId": "4bc7f083-ae2a-4e17-d746-b2a1b8018160"
   },
   "outputs": [
    {
     "name": "stdout",
     "output_type": "stream",
     "text": [
      "[1 1 1 ... 0 1 1]\n"
     ]
    }
   ],
   "source": [
    "threshold = 0.5 # using threshold to find label \n",
    "predictions = (predictions >= threshold).astype(int)\n",
    "predictions = predictions.flatten()\n",
    "print(predictions)"
   ]
  },
  {
   "cell_type": "code",
   "execution_count": 216,
   "id": "uR4h9zN2KQsl",
   "metadata": {
    "id": "uR4h9zN2KQsl"
   },
   "outputs": [],
   "source": [
    "dl_model_df = pd.DataFrame({'id': test_data['patient_id'], 'opted_prediction': predictions})"
   ]
  },
  {
   "cell_type": "code",
   "execution_count": 220,
   "id": "vvtg2yN_LYXT",
   "metadata": {
    "colab": {
     "base_uri": "https://localhost:8080/",
     "height": 206
    },
    "id": "vvtg2yN_LYXT",
    "outputId": "8867ab4e-78c0-49ca-d16f-e6b169804aa4"
   },
   "outputs": [
    {
     "data": {
      "text/html": [
       "\n",
       "  <div id=\"df-fb79733f-f9d6-4956-affa-4c11da8fcb75\" class=\"colab-df-container\">\n",
       "    <div>\n",
       "<style scoped>\n",
       "    .dataframe tbody tr th:only-of-type {\n",
       "        vertical-align: middle;\n",
       "    }\n",
       "\n",
       "    .dataframe tbody tr th {\n",
       "        vertical-align: top;\n",
       "    }\n",
       "\n",
       "    .dataframe thead th {\n",
       "        text-align: right;\n",
       "    }\n",
       "</style>\n",
       "<table border=\"1\" class=\"dataframe\">\n",
       "  <thead>\n",
       "    <tr style=\"text-align: right;\">\n",
       "      <th></th>\n",
       "      <th>id</th>\n",
       "      <th>opted_prediction</th>\n",
       "    </tr>\n",
       "  </thead>\n",
       "  <tbody>\n",
       "    <tr>\n",
       "      <th>0</th>\n",
       "      <td>111023406</td>\n",
       "      <td>1</td>\n",
       "    </tr>\n",
       "    <tr>\n",
       "      <th>1</th>\n",
       "      <td>90160929</td>\n",
       "      <td>1</td>\n",
       "    </tr>\n",
       "    <tr>\n",
       "      <th>2</th>\n",
       "      <td>23948163</td>\n",
       "      <td>1</td>\n",
       "    </tr>\n",
       "    <tr>\n",
       "      <th>3</th>\n",
       "      <td>15767055</td>\n",
       "      <td>0</td>\n",
       "    </tr>\n",
       "    <tr>\n",
       "      <th>4</th>\n",
       "      <td>23483583</td>\n",
       "      <td>1</td>\n",
       "    </tr>\n",
       "  </tbody>\n",
       "</table>\n",
       "</div>\n",
       "    <div class=\"colab-df-buttons\">\n",
       "\n",
       "  <div class=\"colab-df-container\">\n",
       "    <button class=\"colab-df-convert\" onclick=\"convertToInteractive('df-fb79733f-f9d6-4956-affa-4c11da8fcb75')\"\n",
       "            title=\"Convert this dataframe to an interactive table.\"\n",
       "            style=\"display:none;\">\n",
       "\n",
       "  <svg xmlns=\"http://www.w3.org/2000/svg\" height=\"24px\" viewBox=\"0 -960 960 960\">\n",
       "    <path d=\"M120-120v-720h720v720H120Zm60-500h600v-160H180v160Zm220 220h160v-160H400v160Zm0 220h160v-160H400v160ZM180-400h160v-160H180v160Zm440 0h160v-160H620v160ZM180-180h160v-160H180v160Zm440 0h160v-160H620v160Z\"/>\n",
       "  </svg>\n",
       "    </button>\n",
       "\n",
       "  <style>\n",
       "    .colab-df-container {\n",
       "      display:flex;\n",
       "      gap: 12px;\n",
       "    }\n",
       "\n",
       "    .colab-df-convert {\n",
       "      background-color: #E8F0FE;\n",
       "      border: none;\n",
       "      border-radius: 50%;\n",
       "      cursor: pointer;\n",
       "      display: none;\n",
       "      fill: #1967D2;\n",
       "      height: 32px;\n",
       "      padding: 0 0 0 0;\n",
       "      width: 32px;\n",
       "    }\n",
       "\n",
       "    .colab-df-convert:hover {\n",
       "      background-color: #E2EBFA;\n",
       "      box-shadow: 0px 1px 2px rgba(60, 64, 67, 0.3), 0px 1px 3px 1px rgba(60, 64, 67, 0.15);\n",
       "      fill: #174EA6;\n",
       "    }\n",
       "\n",
       "    .colab-df-buttons div {\n",
       "      margin-bottom: 4px;\n",
       "    }\n",
       "\n",
       "    [theme=dark] .colab-df-convert {\n",
       "      background-color: #3B4455;\n",
       "      fill: #D2E3FC;\n",
       "    }\n",
       "\n",
       "    [theme=dark] .colab-df-convert:hover {\n",
       "      background-color: #434B5C;\n",
       "      box-shadow: 0px 1px 3px 1px rgba(0, 0, 0, 0.15);\n",
       "      filter: drop-shadow(0px 1px 2px rgba(0, 0, 0, 0.3));\n",
       "      fill: #FFFFFF;\n",
       "    }\n",
       "  </style>\n",
       "\n",
       "    <script>\n",
       "      const buttonEl =\n",
       "        document.querySelector('#df-fb79733f-f9d6-4956-affa-4c11da8fcb75 button.colab-df-convert');\n",
       "      buttonEl.style.display =\n",
       "        google.colab.kernel.accessAllowed ? 'block' : 'none';\n",
       "\n",
       "      async function convertToInteractive(key) {\n",
       "        const element = document.querySelector('#df-fb79733f-f9d6-4956-affa-4c11da8fcb75');\n",
       "        const dataTable =\n",
       "          await google.colab.kernel.invokeFunction('convertToInteractive',\n",
       "                                                    [key], {});\n",
       "        if (!dataTable) return;\n",
       "\n",
       "        const docLinkHtml = 'Like what you see? Visit the ' +\n",
       "          '<a target=\"_blank\" href=https://colab.research.google.com/notebooks/data_table.ipynb>data table notebook</a>'\n",
       "          + ' to learn more about interactive tables.';\n",
       "        element.innerHTML = '';\n",
       "        dataTable['output_type'] = 'display_data';\n",
       "        await google.colab.output.renderOutput(dataTable, element);\n",
       "        const docLink = document.createElement('div');\n",
       "        docLink.innerHTML = docLinkHtml;\n",
       "        element.appendChild(docLink);\n",
       "      }\n",
       "    </script>\n",
       "  </div>\n",
       "\n",
       "\n",
       "<div id=\"df-5658c130-0d0a-41bb-afa6-d11b5ccee7c6\">\n",
       "  <button class=\"colab-df-quickchart\" onclick=\"quickchart('df-5658c130-0d0a-41bb-afa6-d11b5ccee7c6')\"\n",
       "            title=\"Suggest charts\"\n",
       "            style=\"display:none;\">\n",
       "\n",
       "<svg xmlns=\"http://www.w3.org/2000/svg\" height=\"24px\"viewBox=\"0 0 24 24\"\n",
       "     width=\"24px\">\n",
       "    <g>\n",
       "        <path d=\"M19 3H5c-1.1 0-2 .9-2 2v14c0 1.1.9 2 2 2h14c1.1 0 2-.9 2-2V5c0-1.1-.9-2-2-2zM9 17H7v-7h2v7zm4 0h-2V7h2v10zm4 0h-2v-4h2v4z\"/>\n",
       "    </g>\n",
       "</svg>\n",
       "  </button>\n",
       "\n",
       "<style>\n",
       "  .colab-df-quickchart {\n",
       "      --bg-color: #E8F0FE;\n",
       "      --fill-color: #1967D2;\n",
       "      --hover-bg-color: #E2EBFA;\n",
       "      --hover-fill-color: #174EA6;\n",
       "      --disabled-fill-color: #AAA;\n",
       "      --disabled-bg-color: #DDD;\n",
       "  }\n",
       "\n",
       "  [theme=dark] .colab-df-quickchart {\n",
       "      --bg-color: #3B4455;\n",
       "      --fill-color: #D2E3FC;\n",
       "      --hover-bg-color: #434B5C;\n",
       "      --hover-fill-color: #FFFFFF;\n",
       "      --disabled-bg-color: #3B4455;\n",
       "      --disabled-fill-color: #666;\n",
       "  }\n",
       "\n",
       "  .colab-df-quickchart {\n",
       "    background-color: var(--bg-color);\n",
       "    border: none;\n",
       "    border-radius: 50%;\n",
       "    cursor: pointer;\n",
       "    display: none;\n",
       "    fill: var(--fill-color);\n",
       "    height: 32px;\n",
       "    padding: 0;\n",
       "    width: 32px;\n",
       "  }\n",
       "\n",
       "  .colab-df-quickchart:hover {\n",
       "    background-color: var(--hover-bg-color);\n",
       "    box-shadow: 0 1px 2px rgba(60, 64, 67, 0.3), 0 1px 3px 1px rgba(60, 64, 67, 0.15);\n",
       "    fill: var(--button-hover-fill-color);\n",
       "  }\n",
       "\n",
       "  .colab-df-quickchart-complete:disabled,\n",
       "  .colab-df-quickchart-complete:disabled:hover {\n",
       "    background-color: var(--disabled-bg-color);\n",
       "    fill: var(--disabled-fill-color);\n",
       "    box-shadow: none;\n",
       "  }\n",
       "\n",
       "  .colab-df-spinner {\n",
       "    border: 2px solid var(--fill-color);\n",
       "    border-color: transparent;\n",
       "    border-bottom-color: var(--fill-color);\n",
       "    animation:\n",
       "      spin 1s steps(1) infinite;\n",
       "  }\n",
       "\n",
       "  @keyframes spin {\n",
       "    0% {\n",
       "      border-color: transparent;\n",
       "      border-bottom-color: var(--fill-color);\n",
       "      border-left-color: var(--fill-color);\n",
       "    }\n",
       "    20% {\n",
       "      border-color: transparent;\n",
       "      border-left-color: var(--fill-color);\n",
       "      border-top-color: var(--fill-color);\n",
       "    }\n",
       "    30% {\n",
       "      border-color: transparent;\n",
       "      border-left-color: var(--fill-color);\n",
       "      border-top-color: var(--fill-color);\n",
       "      border-right-color: var(--fill-color);\n",
       "    }\n",
       "    40% {\n",
       "      border-color: transparent;\n",
       "      border-right-color: var(--fill-color);\n",
       "      border-top-color: var(--fill-color);\n",
       "    }\n",
       "    60% {\n",
       "      border-color: transparent;\n",
       "      border-right-color: var(--fill-color);\n",
       "    }\n",
       "    80% {\n",
       "      border-color: transparent;\n",
       "      border-right-color: var(--fill-color);\n",
       "      border-bottom-color: var(--fill-color);\n",
       "    }\n",
       "    90% {\n",
       "      border-color: transparent;\n",
       "      border-bottom-color: var(--fill-color);\n",
       "    }\n",
       "  }\n",
       "</style>\n",
       "\n",
       "  <script>\n",
       "    async function quickchart(key) {\n",
       "      const quickchartButtonEl =\n",
       "        document.querySelector('#' + key + ' button');\n",
       "      quickchartButtonEl.disabled = true;  // To prevent multiple clicks.\n",
       "      quickchartButtonEl.classList.add('colab-df-spinner');\n",
       "      try {\n",
       "        const charts = await google.colab.kernel.invokeFunction(\n",
       "            'suggestCharts', [key], {});\n",
       "      } catch (error) {\n",
       "        console.error('Error during call to suggestCharts:', error);\n",
       "      }\n",
       "      quickchartButtonEl.classList.remove('colab-df-spinner');\n",
       "      quickchartButtonEl.classList.add('colab-df-quickchart-complete');\n",
       "    }\n",
       "    (() => {\n",
       "      let quickchartButtonEl =\n",
       "        document.querySelector('#df-5658c130-0d0a-41bb-afa6-d11b5ccee7c6 button');\n",
       "      quickchartButtonEl.style.display =\n",
       "        google.colab.kernel.accessAllowed ? 'block' : 'none';\n",
       "    })();\n",
       "  </script>\n",
       "</div>\n",
       "\n",
       "    </div>\n",
       "  </div>\n"
      ],
      "text/plain": [
       "          id  opted_prediction\n",
       "0  111023406                 1\n",
       "1   90160929                 1\n",
       "2   23948163                 1\n",
       "3   15767055                 0\n",
       "4   23483583                 1"
      ]
     },
     "execution_count": 220,
     "metadata": {},
     "output_type": "execute_result"
    }
   ],
   "source": [
    "dl_model_df.head()"
   ]
  },
  {
   "cell_type": "code",
   "execution_count": 222,
   "id": "H5NR_DcILjn6",
   "metadata": {
    "id": "H5NR_DcILjn6"
   },
   "outputs": [],
   "source": [
    "submission_df.to_csv('dl_model_submission.csv', index=False)"
   ]
  }
 ],
 "metadata": {
  "accelerator": "GPU",
  "colab": {
   "gpuType": "T4",
   "provenance": []
  },
  "kernelspec": {
   "display_name": "Python 3 (ipykernel)",
   "language": "python",
   "name": "python3"
  },
  "language_info": {
   "codemirror_mode": {
    "name": "ipython",
    "version": 3
   },
   "file_extension": ".py",
   "mimetype": "text/x-python",
   "name": "python",
   "nbconvert_exporter": "python",
   "pygments_lexer": "ipython3",
   "version": "3.8.0"
  }
 },
 "nbformat": 4,
 "nbformat_minor": 5
}
